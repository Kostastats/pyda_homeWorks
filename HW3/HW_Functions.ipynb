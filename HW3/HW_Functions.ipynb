{
 "cells": [
  {
   "cell_type": "markdown",
   "metadata": {},
   "source": [
    "#### Дано\n",
    "Вам нужно помочь секретарю автоматизировать работу. Для этого нужно написать программу, которая будет на основе хранимых данных исполнять пользовательские команды.\n",
    "\n",
    "Исходные данные имеют следующую структуру:\n",
    "\n",
    "1. перечень всех документов\n",
    "\n",
    "documents = [\n",
    "{‘type’: ‘passport’, ‘number’: ‘2207 876234’, ‘name’: ‘Василий Гупкин’},\n",
    "{‘type’: ‘invoice’, ‘number’: ‘11-2’, ‘name’: ‘Геннадий Покемонов’},\n",
    "{‘type’: ‘insurance’, ‘number’: ‘10006’, ‘name’: ‘Аристарх Павлов’}\n",
    "]\n",
    "\n",
    "2.перечень полок, на которых хранятся документы (если документ есть в documents, то он обязательно должен быть и в directories)\n",
    "\n",
    "directories = {\n",
    "‘1’: [‘2207 876234’, ‘11-2’],\n",
    "‘2’: [‘10006’],\n",
    "‘3’: []\n",
    "}"
   ]
  },
  {
   "cell_type": "markdown",
   "metadata": {},
   "source": [
    "### Задание 1\n",
    "#### Пункт 1. Пользователь по команде “p” может узнать владельца документа по его номеру\n",
    "Примеры работы:\n",
    "\n",
    "1:\n",
    "\n",
    "Введите команду:\n",
    "p\n",
    "\n",
    "Введите номер документа:\n",
    "10006\n",
    "\n",
    "Результат:\n",
    "Владелец документа: Аристарх Павлов\n",
    "\n",
    "2:\n",
    "\n",
    "Введите команду:\n",
    "p\n",
    "\n",
    "Введите номер документа:\n",
    "12345\n",
    "\n",
    "Результат:\n",
    "Документ не найден в базе"
   ]
  },
  {
   "cell_type": "code",
   "execution_count": 2,
   "metadata": {},
   "outputs": [
    {
     "name": "stdout",
     "output_type": "stream",
     "text": [
      "Введите команду: p\n",
      "Введите номер документа: 522\n",
      "Документ не найден в базе \n"
     ]
    }
   ],
   "source": [
    "# komanda = input('Введите команду: ')\n",
    "# dok_nr = input('Введите номер документа: ')\n",
    "\n",
    "\n",
    " \n",
    "documents = [\n",
    "    {'type': 'passport', 'number': '2207 876234', 'name': 'Василий Гупкин'},\n",
    "    {'type': 'invoice', 'number': '11-2', 'name': 'Геннадий Покемонов'}, \n",
    "    {'type': 'insurance', 'number': '10006', 'name': 'Аристарх Павлов'}\n",
    "]\n",
    "\n",
    "'''if komanda == 'p' and dok_nr == documents[0]['number']:\n",
    "    print('Владелец документа ' , documents[0]['name'])\n",
    "elif komanda == 'p' and dok_nr == documents[1]['number']:\n",
    "    print('Владелец документа ' , documents[1]['name'])\n",
    "elif komanda == 'p' and dok_nr == documents[2]['number']:\n",
    "    print('Владелец документа ' , documents[2]['name'])\n",
    "else:\n",
    "    print('Документ не найден в базе ')'''\n",
    "    \n",
    "\n",
    "\n"
   ]
  },
  {
   "cell_type": "code",
   "execution_count": 14,
   "metadata": {},
   "outputs": [],
   "source": [
    "def pers_id():\n",
    "        komanda = input('Введите команду: ')\n",
    "        dok_nr = input('Введите номер документа: ')\n",
    "        if komanda == 'p' and dok_nr == documents[0]['number']:\n",
    "            print('Владелец документа ' , documents[0]['name'])\n",
    "        elif komanda == 'p' and dok_nr == documents[1]['number']:\n",
    "            print('Владелец документа ' , documents[1]['name'])\n",
    "        elif komanda == 'p' and dok_nr == documents[2]['number']:\n",
    "            print('Владелец документа ' , documents[2]['name'])\n",
    "        else:\n",
    "            print('Документ не найден в базе ')\n",
    "            "
   ]
  },
  {
   "cell_type": "code",
   "execution_count": 92,
   "metadata": {},
   "outputs": [
    {
     "name": "stdout",
     "output_type": "stream",
     "text": [
      "Введите команду: p\n",
      "Введите номер документа: 10006\n",
      "Владелец документа  Аристарх Павлов\n"
     ]
    }
   ],
   "source": [
    "pers_id()"
   ]
  },
  {
   "cell_type": "markdown",
   "metadata": {},
   "source": [
    "#### Пункт 2. \n",
    "Пользователь по команде “s” может по номеру документа узнать на какой полке он хранится\n",
    "Примеры работы:\n",
    "\n",
    "Введите команду:\n",
    "s\n",
    "\n",
    "Введите номер документа:\n",
    "10006\n",
    "\n",
    "Результат:\n",
    "Документ хранится на полке: 2\n",
    "\n",
    "Введите команду:\n",
    "p\n",
    "\n",
    "Введите номер документа:\n",
    "12345\n",
    "\n",
    "Результат:\n",
    "Документ не найден в базе"
   ]
  },
  {
   "cell_type": "code",
   "execution_count": 99,
   "metadata": {},
   "outputs": [],
   "source": [
    "directories = {'1': ['2207_876234', '11-2'], '2': ['10006'], '3': ['0']}\n",
    "def shelves():\n",
    "    ask_komand = input('Введите команду: ')\n",
    "    ask_doc = input('Введите номер документа: ')\n",
    "    if ask_komand == 's':\n",
    "        if ask_doc == directories['1'][0] or ask_doc == directories['1'][1]:\n",
    "            print('Документ хранится на полке: 1')\n",
    "        elif ask_doc == directories['2'][0]:\n",
    "            print('Документ хранится на полке: 2')\n",
    "        elif ask_doc == directories['3'][0]:\n",
    "            print('Документ хранится на полке: 3')\n",
    "    else:\n",
    "        print('Документ не найден в базе')\n",
    "    "
   ]
  },
  {
   "cell_type": "code",
   "execution_count": 98,
   "metadata": {},
   "outputs": [
    {
     "name": "stdout",
     "output_type": "stream",
     "text": [
      "Введите команду: s\n",
      "Введите номер документа: 10006\n",
      "Документ хранится на полке: 2\n"
     ]
    }
   ],
   "source": [
    "shelves()"
   ]
  },
  {
   "cell_type": "markdown",
   "metadata": {},
   "source": [
    "#### Пункт 3. \n",
    "Пользователь по команде “l” может увидеть полную информацию по всем документам\n",
    "Пример работы:\n",
    "\n",
    "Введите команду:\n",
    "l\n",
    "\n",
    "Результат:\n",
    "\n",
    "№: 2207 876234, тип: passport, владелец: Василий Гупкин, полка хранения: 1\n",
    "№: 11-2, тип: invoice, владелец: Геннадий Покемонов, полка хранения: 1\n",
    "№: 10006, тип: insurance, владелец: Аристарх Павлов, полка хранения: 2\n"
   ]
  },
  {
   "cell_type": "code",
   "execution_count": 4,
   "metadata": {},
   "outputs": [],
   "source": [
    "docbase = [\n",
    "    {'type': 'passport', 'number': '2207 876234', 'name': 'Василий Гупкин', 'shelf': '1'},\n",
    "    {'type': 'invoice', 'number': '11-2', 'name': 'Геннадий Покемонов', 'shelf': '1'}, \n",
    "    {'type': 'insurance', 'number': '10006', 'name': 'Аристарх Павлов', 'shelf': '2'}\n",
    "]\n",
    "def show_off():\n",
    "    l_komand = input('Введите команду: ' )\n",
    "    if l_komand == 'l':\n",
    "        for d in docbase:\n",
    "            print(str(d).replace('{', ' ').replace('}', ' ').replace('number', '#'))\n",
    "    else:\n",
    "        print('Подсказка: команда l')\n",
    "        "
   ]
  },
  {
   "cell_type": "code",
   "execution_count": 5,
   "metadata": {},
   "outputs": [
    {
     "name": "stdout",
     "output_type": "stream",
     "text": [
      "Введите команду: l\n",
      " 'type': 'passport', '#': '2207 876234', 'name': 'Василий Гупкин', 'shelf': '1' \n",
      " 'type': 'invoice', '#': '11-2', 'name': 'Геннадий Покемонов', 'shelf': '1' \n",
      " 'type': 'insurance', '#': '10006', 'name': 'Аристарх Павлов', 'shelf': '2' \n"
     ]
    }
   ],
   "source": [
    "show_off()"
   ]
  },
  {
   "cell_type": "markdown",
   "metadata": {},
   "source": [
    "#### Пункт 4. \n",
    "Пользователь по команде “as” может добавить новую полку"
   ]
  },
  {
   "cell_type": "code",
   "execution_count": 237,
   "metadata": {},
   "outputs": [],
   "source": [
    "docbase_shelf = {'1': {'type': ['passport', 'invoice'], 'number': ['2207_876234', '11-2'], \n",
    "                            'name': ['Василий Гупкин', 'Геннадий Покемонов']},\n",
    "                 '2': {'type': 'insurance', 'number': '10006', 'name': 'Аристарх Павлов'}\n",
    "                }"
   ]
  },
  {
   "cell_type": "code",
   "execution_count": 131,
   "metadata": {},
   "outputs": [],
   "source": [
    "def in_out():\n",
    "    wanna_add = input('Введите команду: ')\n",
    "    shelf_nr = input('Введите номер полки для добавления: ')\n",
    "    if wanna_add == 'as':\n",
    "        if shelf_nr == docbase_shelf.items():\n",
    "            print('такая есть')\n",
    "        else:\n",
    "            docbase_shelf.update({shelf_nr: {''}})\n",
    "            print('Полка номер ' + shelf_nr, 'добавлена', ' Текущий перечень полок: ', list(docbase_shelf))\n",
    "    else:\n",
    "        print('Введите правильную команду: ')\n",
    "    \n",
    "        \n",
    "        "
   ]
  },
  {
   "cell_type": "code",
   "execution_count": 297,
   "metadata": {},
   "outputs": [
    {
     "name": "stdout",
     "output_type": "stream",
     "text": [
      "Введите команду: as\n",
      "Введите номер полки для добавления: 4\n",
      "Полка номер 4 добавлена  Текущий перечень полок:  ['1', '2', '4']\n"
     ]
    }
   ],
   "source": [
    "in_out()"
   ]
  },
  {
   "cell_type": "markdown",
   "metadata": {},
   "source": [
    "#### Пункт 5. \n",
    "Пользователь по команде “ds” может удалить существующую полку из данных (только если она пустая)"
   ]
  },
  {
   "cell_type": "markdown",
   "metadata": {},
   "source": [
    "здесь мы проверяем перечень полок"
   ]
  },
  {
   "cell_type": "code",
   "execution_count": 298,
   "metadata": {},
   "outputs": [
    {
     "name": "stdout",
     "output_type": "stream",
     "text": [
      "['1', '2', '4']\n"
     ]
    }
   ],
   "source": [
    "print(list(docbase_shelf))"
   ]
  },
  {
   "cell_type": "code",
   "execution_count": 275,
   "metadata": {},
   "outputs": [],
   "source": [
    "def udalit():\n",
    "    komanda_ds = input('Введите команду: ')\n",
    "    ubral = input('Введите номер полки: ')\n",
    "    if komanda_ds == 'ds':\n",
    "        for key in list(docbase_shelf):\n",
    "            if key == ubral:\n",
    "                del docbase_shelf[key]\n",
    "                print('Полка удалена')\n",
    "        else:\n",
    "            print('Такой полки нет')\n",
    "    else:\n",
    "        print(' неправильная команда')\n",
    "          "
   ]
  },
  {
   "cell_type": "code",
   "execution_count": 299,
   "metadata": {
    "scrolled": false
   },
   "outputs": [
    {
     "name": "stdout",
     "output_type": "stream",
     "text": [
      "Введите команду: ds\n",
      "Введите номер полки: 4\n",
      "Полка удалена\n",
      "Такой полки нет\n"
     ]
    }
   ],
   "source": [
    "udalit()"
   ]
  }
 ],
 "metadata": {
  "kernelspec": {
   "display_name": "Python 3",
   "language": "python",
   "name": "python3"
  },
  "language_info": {
   "codemirror_mode": {
    "name": "ipython",
    "version": 3
   },
   "file_extension": ".py",
   "mimetype": "text/x-python",
   "name": "python",
   "nbconvert_exporter": "python",
   "pygments_lexer": "ipython3",
   "version": "3.8.5"
  }
 },
 "nbformat": 4,
 "nbformat_minor": 4
}
