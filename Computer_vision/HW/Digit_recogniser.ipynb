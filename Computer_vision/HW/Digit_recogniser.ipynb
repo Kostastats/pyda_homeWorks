{
 "cells": [
  {
   "cell_type": "code",
   "execution_count": 30,
   "id": "a7e49bbf",
   "metadata": {
    "_cell_guid": "b1076dfc-b9ad-4769-8c92-a6c4dae69d19",
    "_uuid": "8f2839f25d086af736a60e9eeb907d3b93b6e0e5",
    "execution": {
     "iopub.execute_input": "2021-12-31T10:24:10.376722Z",
     "iopub.status.busy": "2021-12-31T10:24:10.376172Z",
     "iopub.status.idle": "2021-12-31T10:24:10.381276Z",
     "shell.execute_reply": "2021-12-31T10:24:10.380504Z",
     "shell.execute_reply.started": "2021-12-31T10:22:33.173172Z"
    },
    "papermill": {
     "duration": 0.030384,
     "end_time": "2021-12-31T10:24:10.381437",
     "exception": false,
     "start_time": "2021-12-31T10:24:10.351053",
     "status": "completed"
    },
    "tags": []
   },
   "outputs": [],
   "source": [
    "import numpy as np \n",
    "import pandas as pd \n",
    "\n",
    "\n",
    "import os\n",
    "for dirname, _, filenames in os.walk('/kaggle/input'):\n",
    "    for filename in filenames:\n",
    "        print(os.path.join(dirname, filename))\n",
    "\n"
   ]
  },
  {
   "cell_type": "code",
   "execution_count": 31,
   "id": "dbc58109",
   "metadata": {
    "execution": {
     "iopub.execute_input": "2021-12-31T10:24:10.412005Z",
     "iopub.status.busy": "2021-12-31T10:24:10.411407Z",
     "iopub.status.idle": "2021-12-31T10:24:11.230674Z",
     "shell.execute_reply": "2021-12-31T10:24:11.231176Z",
     "shell.execute_reply.started": "2021-12-31T10:22:33.192246Z"
    },
    "papermill": {
     "duration": 0.836796,
     "end_time": "2021-12-31T10:24:11.231386",
     "exception": false,
     "start_time": "2021-12-31T10:24:10.394590",
     "status": "completed"
    },
    "tags": []
   },
   "outputs": [],
   "source": [
    "import matplotlib.pyplot as plt\n",
    "plt.style.use('fivethirtyeight')\n",
    "import seaborn as sns"
   ]
  },
  {
   "cell_type": "code",
   "execution_count": 32,
   "id": "e0bb6317",
   "metadata": {
    "execution": {
     "iopub.execute_input": "2021-12-31T10:24:11.263180Z",
     "iopub.status.busy": "2021-12-31T10:24:11.262620Z",
     "iopub.status.idle": "2021-12-31T10:24:15.999900Z",
     "shell.execute_reply": "2021-12-31T10:24:15.999417Z",
     "shell.execute_reply.started": "2021-12-31T10:22:34.133180Z"
    },
    "papermill": {
     "duration": 4.75319,
     "end_time": "2021-12-31T10:24:16.000077",
     "exception": false,
     "start_time": "2021-12-31T10:24:11.246887",
     "status": "completed"
    },
    "tags": []
   },
   "outputs": [],
   "source": [
    "train=pd.read_csv('train.csv')\n",
    "test=pd.read_csv('test.csv')"
   ]
  },
  {
   "cell_type": "code",
   "execution_count": 33,
   "id": "71238755",
   "metadata": {
    "execution": {
     "iopub.execute_input": "2021-12-31T10:24:16.034782Z",
     "iopub.status.busy": "2021-12-31T10:24:16.029289Z",
     "iopub.status.idle": "2021-12-31T10:24:16.051281Z",
     "shell.execute_reply": "2021-12-31T10:24:16.051713Z",
     "shell.execute_reply.started": "2021-12-31T10:22:39.918143Z"
    },
    "papermill": {
     "duration": 0.03832,
     "end_time": "2021-12-31T10:24:16.051872",
     "exception": false,
     "start_time": "2021-12-31T10:24:16.013552",
     "status": "completed"
    },
    "tags": []
   },
   "outputs": [
    {
     "data": {
      "text/html": [
       "<div>\n",
       "<style scoped>\n",
       "    .dataframe tbody tr th:only-of-type {\n",
       "        vertical-align: middle;\n",
       "    }\n",
       "\n",
       "    .dataframe tbody tr th {\n",
       "        vertical-align: top;\n",
       "    }\n",
       "\n",
       "    .dataframe thead th {\n",
       "        text-align: right;\n",
       "    }\n",
       "</style>\n",
       "<table border=\"1\" class=\"dataframe\">\n",
       "  <thead>\n",
       "    <tr style=\"text-align: right;\">\n",
       "      <th></th>\n",
       "      <th>label</th>\n",
       "      <th>pixel0</th>\n",
       "      <th>pixel1</th>\n",
       "      <th>pixel2</th>\n",
       "      <th>pixel3</th>\n",
       "      <th>pixel4</th>\n",
       "      <th>pixel5</th>\n",
       "      <th>pixel6</th>\n",
       "      <th>pixel7</th>\n",
       "      <th>pixel8</th>\n",
       "      <th>...</th>\n",
       "      <th>pixel774</th>\n",
       "      <th>pixel775</th>\n",
       "      <th>pixel776</th>\n",
       "      <th>pixel777</th>\n",
       "      <th>pixel778</th>\n",
       "      <th>pixel779</th>\n",
       "      <th>pixel780</th>\n",
       "      <th>pixel781</th>\n",
       "      <th>pixel782</th>\n",
       "      <th>pixel783</th>\n",
       "    </tr>\n",
       "  </thead>\n",
       "  <tbody>\n",
       "    <tr>\n",
       "      <th>0</th>\n",
       "      <td>1</td>\n",
       "      <td>0</td>\n",
       "      <td>0</td>\n",
       "      <td>0</td>\n",
       "      <td>0</td>\n",
       "      <td>0</td>\n",
       "      <td>0</td>\n",
       "      <td>0</td>\n",
       "      <td>0</td>\n",
       "      <td>0</td>\n",
       "      <td>...</td>\n",
       "      <td>0</td>\n",
       "      <td>0</td>\n",
       "      <td>0</td>\n",
       "      <td>0</td>\n",
       "      <td>0</td>\n",
       "      <td>0</td>\n",
       "      <td>0</td>\n",
       "      <td>0</td>\n",
       "      <td>0</td>\n",
       "      <td>0</td>\n",
       "    </tr>\n",
       "    <tr>\n",
       "      <th>1</th>\n",
       "      <td>0</td>\n",
       "      <td>0</td>\n",
       "      <td>0</td>\n",
       "      <td>0</td>\n",
       "      <td>0</td>\n",
       "      <td>0</td>\n",
       "      <td>0</td>\n",
       "      <td>0</td>\n",
       "      <td>0</td>\n",
       "      <td>0</td>\n",
       "      <td>...</td>\n",
       "      <td>0</td>\n",
       "      <td>0</td>\n",
       "      <td>0</td>\n",
       "      <td>0</td>\n",
       "      <td>0</td>\n",
       "      <td>0</td>\n",
       "      <td>0</td>\n",
       "      <td>0</td>\n",
       "      <td>0</td>\n",
       "      <td>0</td>\n",
       "    </tr>\n",
       "    <tr>\n",
       "      <th>2</th>\n",
       "      <td>1</td>\n",
       "      <td>0</td>\n",
       "      <td>0</td>\n",
       "      <td>0</td>\n",
       "      <td>0</td>\n",
       "      <td>0</td>\n",
       "      <td>0</td>\n",
       "      <td>0</td>\n",
       "      <td>0</td>\n",
       "      <td>0</td>\n",
       "      <td>...</td>\n",
       "      <td>0</td>\n",
       "      <td>0</td>\n",
       "      <td>0</td>\n",
       "      <td>0</td>\n",
       "      <td>0</td>\n",
       "      <td>0</td>\n",
       "      <td>0</td>\n",
       "      <td>0</td>\n",
       "      <td>0</td>\n",
       "      <td>0</td>\n",
       "    </tr>\n",
       "    <tr>\n",
       "      <th>3</th>\n",
       "      <td>4</td>\n",
       "      <td>0</td>\n",
       "      <td>0</td>\n",
       "      <td>0</td>\n",
       "      <td>0</td>\n",
       "      <td>0</td>\n",
       "      <td>0</td>\n",
       "      <td>0</td>\n",
       "      <td>0</td>\n",
       "      <td>0</td>\n",
       "      <td>...</td>\n",
       "      <td>0</td>\n",
       "      <td>0</td>\n",
       "      <td>0</td>\n",
       "      <td>0</td>\n",
       "      <td>0</td>\n",
       "      <td>0</td>\n",
       "      <td>0</td>\n",
       "      <td>0</td>\n",
       "      <td>0</td>\n",
       "      <td>0</td>\n",
       "    </tr>\n",
       "    <tr>\n",
       "      <th>4</th>\n",
       "      <td>0</td>\n",
       "      <td>0</td>\n",
       "      <td>0</td>\n",
       "      <td>0</td>\n",
       "      <td>0</td>\n",
       "      <td>0</td>\n",
       "      <td>0</td>\n",
       "      <td>0</td>\n",
       "      <td>0</td>\n",
       "      <td>0</td>\n",
       "      <td>...</td>\n",
       "      <td>0</td>\n",
       "      <td>0</td>\n",
       "      <td>0</td>\n",
       "      <td>0</td>\n",
       "      <td>0</td>\n",
       "      <td>0</td>\n",
       "      <td>0</td>\n",
       "      <td>0</td>\n",
       "      <td>0</td>\n",
       "      <td>0</td>\n",
       "    </tr>\n",
       "  </tbody>\n",
       "</table>\n",
       "<p>5 rows × 785 columns</p>\n",
       "</div>"
      ],
      "text/plain": [
       "   label  pixel0  pixel1  pixel2  pixel3  pixel4  pixel5  pixel6  pixel7  \\\n",
       "0      1       0       0       0       0       0       0       0       0   \n",
       "1      0       0       0       0       0       0       0       0       0   \n",
       "2      1       0       0       0       0       0       0       0       0   \n",
       "3      4       0       0       0       0       0       0       0       0   \n",
       "4      0       0       0       0       0       0       0       0       0   \n",
       "\n",
       "   pixel8  ...  pixel774  pixel775  pixel776  pixel777  pixel778  pixel779  \\\n",
       "0       0  ...         0         0         0         0         0         0   \n",
       "1       0  ...         0         0         0         0         0         0   \n",
       "2       0  ...         0         0         0         0         0         0   \n",
       "3       0  ...         0         0         0         0         0         0   \n",
       "4       0  ...         0         0         0         0         0         0   \n",
       "\n",
       "   pixel780  pixel781  pixel782  pixel783  \n",
       "0         0         0         0         0  \n",
       "1         0         0         0         0  \n",
       "2         0         0         0         0  \n",
       "3         0         0         0         0  \n",
       "4         0         0         0         0  \n",
       "\n",
       "[5 rows x 785 columns]"
      ]
     },
     "execution_count": 33,
     "metadata": {},
     "output_type": "execute_result"
    }
   ],
   "source": [
    "train.head()"
   ]
  },
  {
   "cell_type": "code",
   "execution_count": 34,
   "id": "5d2fcd49",
   "metadata": {
    "execution": {
     "iopub.execute_input": "2021-12-31T10:24:16.082656Z",
     "iopub.status.busy": "2021-12-31T10:24:16.081709Z",
     "iopub.status.idle": "2021-12-31T10:24:16.096818Z",
     "shell.execute_reply": "2021-12-31T10:24:16.096291Z",
     "shell.execute_reply.started": "2021-12-31T10:22:40.039490Z"
    },
    "papermill": {
     "duration": 0.031856,
     "end_time": "2021-12-31T10:24:16.096973",
     "exception": false,
     "start_time": "2021-12-31T10:24:16.065117",
     "status": "completed"
    },
    "tags": []
   },
   "outputs": [
    {
     "data": {
      "text/html": [
       "<div>\n",
       "<style scoped>\n",
       "    .dataframe tbody tr th:only-of-type {\n",
       "        vertical-align: middle;\n",
       "    }\n",
       "\n",
       "    .dataframe tbody tr th {\n",
       "        vertical-align: top;\n",
       "    }\n",
       "\n",
       "    .dataframe thead th {\n",
       "        text-align: right;\n",
       "    }\n",
       "</style>\n",
       "<table border=\"1\" class=\"dataframe\">\n",
       "  <thead>\n",
       "    <tr style=\"text-align: right;\">\n",
       "      <th></th>\n",
       "      <th>pixel0</th>\n",
       "      <th>pixel1</th>\n",
       "      <th>pixel2</th>\n",
       "      <th>pixel3</th>\n",
       "      <th>pixel4</th>\n",
       "      <th>pixel5</th>\n",
       "      <th>pixel6</th>\n",
       "      <th>pixel7</th>\n",
       "      <th>pixel8</th>\n",
       "      <th>pixel9</th>\n",
       "      <th>...</th>\n",
       "      <th>pixel774</th>\n",
       "      <th>pixel775</th>\n",
       "      <th>pixel776</th>\n",
       "      <th>pixel777</th>\n",
       "      <th>pixel778</th>\n",
       "      <th>pixel779</th>\n",
       "      <th>pixel780</th>\n",
       "      <th>pixel781</th>\n",
       "      <th>pixel782</th>\n",
       "      <th>pixel783</th>\n",
       "    </tr>\n",
       "  </thead>\n",
       "  <tbody>\n",
       "    <tr>\n",
       "      <th>0</th>\n",
       "      <td>0</td>\n",
       "      <td>0</td>\n",
       "      <td>0</td>\n",
       "      <td>0</td>\n",
       "      <td>0</td>\n",
       "      <td>0</td>\n",
       "      <td>0</td>\n",
       "      <td>0</td>\n",
       "      <td>0</td>\n",
       "      <td>0</td>\n",
       "      <td>...</td>\n",
       "      <td>0</td>\n",
       "      <td>0</td>\n",
       "      <td>0</td>\n",
       "      <td>0</td>\n",
       "      <td>0</td>\n",
       "      <td>0</td>\n",
       "      <td>0</td>\n",
       "      <td>0</td>\n",
       "      <td>0</td>\n",
       "      <td>0</td>\n",
       "    </tr>\n",
       "    <tr>\n",
       "      <th>1</th>\n",
       "      <td>0</td>\n",
       "      <td>0</td>\n",
       "      <td>0</td>\n",
       "      <td>0</td>\n",
       "      <td>0</td>\n",
       "      <td>0</td>\n",
       "      <td>0</td>\n",
       "      <td>0</td>\n",
       "      <td>0</td>\n",
       "      <td>0</td>\n",
       "      <td>...</td>\n",
       "      <td>0</td>\n",
       "      <td>0</td>\n",
       "      <td>0</td>\n",
       "      <td>0</td>\n",
       "      <td>0</td>\n",
       "      <td>0</td>\n",
       "      <td>0</td>\n",
       "      <td>0</td>\n",
       "      <td>0</td>\n",
       "      <td>0</td>\n",
       "    </tr>\n",
       "    <tr>\n",
       "      <th>2</th>\n",
       "      <td>0</td>\n",
       "      <td>0</td>\n",
       "      <td>0</td>\n",
       "      <td>0</td>\n",
       "      <td>0</td>\n",
       "      <td>0</td>\n",
       "      <td>0</td>\n",
       "      <td>0</td>\n",
       "      <td>0</td>\n",
       "      <td>0</td>\n",
       "      <td>...</td>\n",
       "      <td>0</td>\n",
       "      <td>0</td>\n",
       "      <td>0</td>\n",
       "      <td>0</td>\n",
       "      <td>0</td>\n",
       "      <td>0</td>\n",
       "      <td>0</td>\n",
       "      <td>0</td>\n",
       "      <td>0</td>\n",
       "      <td>0</td>\n",
       "    </tr>\n",
       "    <tr>\n",
       "      <th>3</th>\n",
       "      <td>0</td>\n",
       "      <td>0</td>\n",
       "      <td>0</td>\n",
       "      <td>0</td>\n",
       "      <td>0</td>\n",
       "      <td>0</td>\n",
       "      <td>0</td>\n",
       "      <td>0</td>\n",
       "      <td>0</td>\n",
       "      <td>0</td>\n",
       "      <td>...</td>\n",
       "      <td>0</td>\n",
       "      <td>0</td>\n",
       "      <td>0</td>\n",
       "      <td>0</td>\n",
       "      <td>0</td>\n",
       "      <td>0</td>\n",
       "      <td>0</td>\n",
       "      <td>0</td>\n",
       "      <td>0</td>\n",
       "      <td>0</td>\n",
       "    </tr>\n",
       "    <tr>\n",
       "      <th>4</th>\n",
       "      <td>0</td>\n",
       "      <td>0</td>\n",
       "      <td>0</td>\n",
       "      <td>0</td>\n",
       "      <td>0</td>\n",
       "      <td>0</td>\n",
       "      <td>0</td>\n",
       "      <td>0</td>\n",
       "      <td>0</td>\n",
       "      <td>0</td>\n",
       "      <td>...</td>\n",
       "      <td>0</td>\n",
       "      <td>0</td>\n",
       "      <td>0</td>\n",
       "      <td>0</td>\n",
       "      <td>0</td>\n",
       "      <td>0</td>\n",
       "      <td>0</td>\n",
       "      <td>0</td>\n",
       "      <td>0</td>\n",
       "      <td>0</td>\n",
       "    </tr>\n",
       "  </tbody>\n",
       "</table>\n",
       "<p>5 rows × 784 columns</p>\n",
       "</div>"
      ],
      "text/plain": [
       "   pixel0  pixel1  pixel2  pixel3  pixel4  pixel5  pixel6  pixel7  pixel8  \\\n",
       "0       0       0       0       0       0       0       0       0       0   \n",
       "1       0       0       0       0       0       0       0       0       0   \n",
       "2       0       0       0       0       0       0       0       0       0   \n",
       "3       0       0       0       0       0       0       0       0       0   \n",
       "4       0       0       0       0       0       0       0       0       0   \n",
       "\n",
       "   pixel9  ...  pixel774  pixel775  pixel776  pixel777  pixel778  pixel779  \\\n",
       "0       0  ...         0         0         0         0         0         0   \n",
       "1       0  ...         0         0         0         0         0         0   \n",
       "2       0  ...         0         0         0         0         0         0   \n",
       "3       0  ...         0         0         0         0         0         0   \n",
       "4       0  ...         0         0         0         0         0         0   \n",
       "\n",
       "   pixel780  pixel781  pixel782  pixel783  \n",
       "0         0         0         0         0  \n",
       "1         0         0         0         0  \n",
       "2         0         0         0         0  \n",
       "3         0         0         0         0  \n",
       "4         0         0         0         0  \n",
       "\n",
       "[5 rows x 784 columns]"
      ]
     },
     "execution_count": 34,
     "metadata": {},
     "output_type": "execute_result"
    }
   ],
   "source": [
    "test.head()"
   ]
  },
  {
   "cell_type": "code",
   "execution_count": 35,
   "id": "1b260585",
   "metadata": {
    "execution": {
     "iopub.execute_input": "2021-12-31T10:24:16.129191Z",
     "iopub.status.busy": "2021-12-31T10:24:16.128542Z",
     "iopub.status.idle": "2021-12-31T10:24:16.173982Z",
     "shell.execute_reply": "2021-12-31T10:24:16.174399Z",
     "shell.execute_reply.started": "2021-12-31T10:22:40.062187Z"
    },
    "papermill": {
     "duration": 0.063683,
     "end_time": "2021-12-31T10:24:16.174576",
     "exception": false,
     "start_time": "2021-12-31T10:24:16.110893",
     "status": "completed"
    },
    "tags": []
   },
   "outputs": [
    {
     "data": {
      "text/plain": [
       "0"
      ]
     },
     "execution_count": 35,
     "metadata": {},
     "output_type": "execute_result"
    }
   ],
   "source": [
    "train.isnull().sum().sum()"
   ]
  },
  {
   "cell_type": "code",
   "execution_count": 36,
   "id": "a8300785",
   "metadata": {
    "execution": {
     "iopub.execute_input": "2021-12-31T10:24:16.212203Z",
     "iopub.status.busy": "2021-12-31T10:24:16.211296Z",
     "iopub.status.idle": "2021-12-31T10:24:16.244077Z",
     "shell.execute_reply": "2021-12-31T10:24:16.244547Z",
     "shell.execute_reply.started": "2021-12-31T10:22:40.112921Z"
    },
    "papermill": {
     "duration": 0.053163,
     "end_time": "2021-12-31T10:24:16.244816",
     "exception": false,
     "start_time": "2021-12-31T10:24:16.191653",
     "status": "completed"
    },
    "tags": []
   },
   "outputs": [
    {
     "data": {
      "text/plain": [
       "0"
      ]
     },
     "execution_count": 36,
     "metadata": {},
     "output_type": "execute_result"
    }
   ],
   "source": [
    "test.isnull().sum().sum()"
   ]
  },
  {
   "cell_type": "code",
   "execution_count": 37,
   "id": "bf544416",
   "metadata": {
    "execution": {
     "iopub.execute_input": "2021-12-31T10:24:16.279780Z",
     "iopub.status.busy": "2021-12-31T10:24:16.279211Z",
     "iopub.status.idle": "2021-12-31T10:24:16.510549Z",
     "shell.execute_reply": "2021-12-31T10:24:16.510059Z",
     "shell.execute_reply.started": "2021-12-31T10:22:40.150923Z"
    },
    "papermill": {
     "duration": 0.248497,
     "end_time": "2021-12-31T10:24:16.510688",
     "exception": false,
     "start_time": "2021-12-31T10:24:16.262191",
     "status": "completed"
    },
    "tags": []
   },
   "outputs": [
    {
     "data": {
      "image/png": "[encoded data removed]",
      "text/plain": [
       "<Figure size 432x288 with 1 Axes>"
      ]
     },
     "metadata": {},
     "output_type": "display_data"
    }
   ],
   "source": [
    "sns.countplot(x='label',data=train)\n",
    "plt.title('Distrinution of labels in training set')\n",
    "plt.show()"
   ]
  },
  {
   "cell_type": "code",
   "execution_count": 38,
   "id": "b6b03fec",
   "metadata": {
    "execution": {
     "iopub.execute_input": "2021-12-31T10:24:16.545749Z",
     "iopub.status.busy": "2021-12-31T10:24:16.545121Z",
     "iopub.status.idle": "2021-12-31T10:24:16.653926Z",
     "shell.execute_reply": "2021-12-31T10:24:16.653057Z",
     "shell.execute_reply.started": "2021-12-31T10:22:40.435681Z"
    },
    "papermill": {
     "duration": 0.128368,
     "end_time": "2021-12-31T10:24:16.654093",
     "exception": false,
     "start_time": "2021-12-31T10:24:16.525725",
     "status": "completed"
    },
    "tags": []
   },
   "outputs": [],
   "source": [
    "X=train.drop('label',axis=1)"
   ]
  },
  {
   "cell_type": "code",
   "execution_count": 39,
   "id": "ad7d8b1c",
   "metadata": {
    "execution": {
     "iopub.execute_input": "2021-12-31T10:24:16.689110Z",
     "iopub.status.busy": "2021-12-31T10:24:16.688471Z",
     "iopub.status.idle": "2021-12-31T10:24:16.693601Z",
     "shell.execute_reply": "2021-12-31T10:24:16.694135Z",
     "shell.execute_reply.started": "2021-12-31T10:22:40.547643Z"
    },
    "papermill": {
     "duration": 0.025173,
     "end_time": "2021-12-31T10:24:16.694287",
     "exception": false,
     "start_time": "2021-12-31T10:24:16.669114",
     "status": "completed"
    },
    "tags": []
   },
   "outputs": [],
   "source": [
    "y=train['label']\n",
    "y=pd.get_dummies(y)"
   ]
  },
  {
   "cell_type": "code",
   "execution_count": 40,
   "id": "212ea1cf",
   "metadata": {
    "execution": {
     "iopub.execute_input": "2021-12-31T10:24:16.727234Z",
     "iopub.status.busy": "2021-12-31T10:24:16.726371Z",
     "iopub.status.idle": "2021-12-31T10:24:16.968215Z",
     "shell.execute_reply": "2021-12-31T10:24:16.967060Z",
     "shell.execute_reply.started": "2021-12-31T10:22:40.559012Z"
    },
    "papermill": {
     "duration": 0.259211,
     "end_time": "2021-12-31T10:24:16.968372",
     "exception": false,
     "start_time": "2021-12-31T10:24:16.709161",
     "status": "completed"
    },
    "tags": []
   },
   "outputs": [],
   "source": [
    "from sklearn.model_selection import train_test_split"
   ]
  },
  {
   "cell_type": "code",
   "execution_count": 41,
   "id": "50080b00",
   "metadata": {
    "execution": {
     "iopub.execute_input": "2021-12-31T10:24:17.005250Z",
     "iopub.status.busy": "2021-12-31T10:24:17.004387Z",
     "iopub.status.idle": "2021-12-31T10:24:17.238717Z",
     "shell.execute_reply": "2021-12-31T10:24:17.239203Z",
     "shell.execute_reply.started": "2021-12-31T10:22:40.843368Z"
    },
    "papermill": {
     "duration": 0.252592,
     "end_time": "2021-12-31T10:24:17.239392",
     "exception": false,
     "start_time": "2021-12-31T10:24:16.986800",
     "status": "completed"
    },
    "tags": []
   },
   "outputs": [],
   "source": [
    "X_train,X_valid,y_train,y_valid = train_test_split(X,y,train_size=0.9,test_size=0.1,random_state=0)"
   ]
  },
  {
   "cell_type": "code",
   "execution_count": 42,
   "id": "89c2ffe2",
   "metadata": {
    "execution": {
     "iopub.execute_input": "2021-12-31T10:24:17.273918Z",
     "iopub.status.busy": "2021-12-31T10:24:17.273258Z",
     "iopub.status.idle": "2021-12-31T10:24:22.258999Z",
     "shell.execute_reply": "2021-12-31T10:24:22.258458Z",
     "shell.execute_reply.started": "2021-12-31T10:22:41.089844Z"
    },
    "papermill": {
     "duration": 5.004465,
     "end_time": "2021-12-31T10:24:22.259147",
     "exception": false,
     "start_time": "2021-12-31T10:24:17.254682",
     "status": "completed"
    },
    "tags": []
   },
   "outputs": [],
   "source": [
    "from tensorflow import keras\n",
    "from tensorflow.keras import layers"
   ]
  },
  {
   "cell_type": "code",
   "execution_count": 43,
   "id": "8c3a205b",
   "metadata": {
    "execution": {
     "iopub.execute_input": "2021-12-31T10:24:22.293258Z",
     "iopub.status.busy": "2021-12-31T10:24:22.292332Z",
     "iopub.status.idle": "2021-12-31T10:24:22.407402Z",
     "shell.execute_reply": "2021-12-31T10:24:22.407924Z",
     "shell.execute_reply.started": "2021-12-31T10:22:47.105430Z"
    },
    "papermill": {
     "duration": 0.13364,
     "end_time": "2021-12-31T10:24:22.408147",
     "exception": false,
     "start_time": "2021-12-31T10:24:22.274507",
     "status": "completed"
    },
    "scrolled": true,
    "tags": []
   },
   "outputs": [],
   "source": [
    "model=keras.Sequential([\n",
    "    \n",
    "    #hidden layer 1\n",
    "    layers.Dense(units=256, activation='relu', input_shape=[784]),\n",
    "    \n",
    "    #output layer\n",
    "    layers.Dense(units=10 , activation='softmax')\n",
    "])\n",
    "\n",
    "model.compile(optimizer='adam',\n",
    "             loss='categorical_crossentropy',\n",
    "             metrics=['categorical_accuracy'])\n"
   ]
  },
  {
   "cell_type": "code",
   "execution_count": 44,
   "id": "3eaeac1f",
   "metadata": {
    "execution": {
     "iopub.execute_input": "2021-12-31T10:24:22.445799Z",
     "iopub.status.busy": "2021-12-31T10:24:22.444956Z",
     "iopub.status.idle": "2021-12-31T10:24:33.564916Z",
     "shell.execute_reply": "2021-12-31T10:24:33.565402Z",
     "shell.execute_reply.started": "2021-12-31T10:22:47.237953Z"
    },
    "papermill": {
     "duration": 11.141395,
     "end_time": "2021-12-31T10:24:33.565581",
     "exception": false,
     "start_time": "2021-12-31T10:24:22.424186",
     "status": "completed"
    },
    "tags": []
   },
   "outputs": [
    {
     "name": "stdout",
     "output_type": "stream",
     "text": [
      "Epoch 1/10\n",
      "76/76 [==============================] - 7s 41ms/step - loss: 11.0327 - categorical_accuracy: 0.8301 - val_loss: 3.3995 - val_categorical_accuracy: 0.9090\n",
      "Epoch 2/10\n",
      "76/76 [==============================] - 2s 23ms/step - loss: 2.0556 - categorical_accuracy: 0.9249 - val_loss: 2.2300 - val_categorical_accuracy: 0.9267\n",
      "Epoch 3/10\n",
      "76/76 [==============================] - 2s 24ms/step - loss: 1.1121 - categorical_accuracy: 0.9450 - val_loss: 1.7304 - val_categorical_accuracy: 0.9333\n",
      "Epoch 4/10\n",
      "76/76 [==============================] - 2s 26ms/step - loss: 0.6680 - categorical_accuracy: 0.9610 - val_loss: 1.5044 - val_categorical_accuracy: 0.9400\n",
      "Epoch 5/10\n",
      "76/76 [==============================] - 2s 25ms/step - loss: 0.4341 - categorical_accuracy: 0.9693 - val_loss: 1.3898 - val_categorical_accuracy: 0.9421\n",
      "Epoch 6/10\n",
      "76/76 [==============================] - 2s 25ms/step - loss: 0.2870 - categorical_accuracy: 0.9762 - val_loss: 1.4222 - val_categorical_accuracy: 0.9410\n",
      "Epoch 7/10\n",
      "76/76 [==============================] - 2s 26ms/step - loss: 0.1858 - categorical_accuracy: 0.9813 - val_loss: 1.3440 - val_categorical_accuracy: 0.9457\n",
      "Epoch 8/10\n",
      "76/76 [==============================] - 2s 23ms/step - loss: 0.1366 - categorical_accuracy: 0.9849 - val_loss: 1.2617 - val_categorical_accuracy: 0.9505\n",
      "Epoch 9/10\n",
      "76/76 [==============================] - 2s 24ms/step - loss: 0.1009 - categorical_accuracy: 0.9875 - val_loss: 1.2496 - val_categorical_accuracy: 0.9486\n",
      "Epoch 10/10\n",
      "76/76 [==============================] - 2s 24ms/step - loss: 0.0760 - categorical_accuracy: 0.9897 - val_loss: 1.1879 - val_categorical_accuracy: 0.9540\n"
     ]
    }
   ],
   "source": [
    "train_model=model.fit(\n",
    "            X_train,y_train,\n",
    "            validation_data=(X_valid,y_valid),\n",
    "            batch_size=500,\n",
    "            epochs=10,\n",
    "            verbose=True\n",
    ")"
   ]
  },
  {
   "cell_type": "code",
   "execution_count": 45,
   "id": "a7b90a01",
   "metadata": {
    "execution": {
     "iopub.execute_input": "2021-12-31T10:24:33.654553Z",
     "iopub.status.busy": "2021-12-31T10:24:33.653699Z",
     "iopub.status.idle": "2021-12-31T10:24:34.935318Z",
     "shell.execute_reply": "2021-12-31T10:24:34.934712Z",
     "shell.execute_reply.started": "2021-12-31T10:22:54.851881Z"
    },
    "papermill": {
     "duration": 1.326324,
     "end_time": "2021-12-31T10:24:34.935464",
     "exception": false,
     "start_time": "2021-12-31T10:24:33.609140",
     "status": "completed"
    },
    "tags": []
   },
   "outputs": [],
   "source": [
    "predic=model.predict(test)"
   ]
  },
  {
   "cell_type": "code",
   "execution_count": 46,
   "id": "861db6a4",
   "metadata": {
    "execution": {
     "iopub.execute_input": "2021-12-31T10:24:35.025225Z",
     "iopub.status.busy": "2021-12-31T10:24:35.024635Z",
     "iopub.status.idle": "2021-12-31T10:24:35.028852Z",
     "shell.execute_reply": "2021-12-31T10:24:35.029272Z",
     "shell.execute_reply.started": "2021-12-31T10:22:56.161938Z"
    },
    "papermill": {
     "duration": 0.051379,
     "end_time": "2021-12-31T10:24:35.029571",
     "exception": false,
     "start_time": "2021-12-31T10:24:34.978192",
     "status": "completed"
    },
    "tags": []
   },
   "outputs": [],
   "source": [
    "predic_classes=np.argmax(predic,axis=1)"
   ]
  },
  {
   "cell_type": "code",
   "execution_count": 47,
   "id": "d9ef4153",
   "metadata": {
    "execution": {
     "iopub.execute_input": "2021-12-31T10:24:35.119649Z",
     "iopub.status.busy": "2021-12-31T10:24:35.119069Z",
     "iopub.status.idle": "2021-12-31T10:24:35.123337Z",
     "shell.execute_reply": "2021-12-31T10:24:35.123870Z",
     "shell.execute_reply.started": "2021-12-31T10:23:11.437069Z"
    },
    "papermill": {
     "duration": 0.049775,
     "end_time": "2021-12-31T10:24:35.124041",
     "exception": false,
     "start_time": "2021-12-31T10:24:35.074266",
     "status": "completed"
    },
    "tags": []
   },
   "outputs": [],
   "source": [
    "output=pd.DataFrame({'ImageId':test.index+1,'Label':predic_classes})"
   ]
  },
  {
   "cell_type": "code",
   "execution_count": 48,
   "id": "5ef96d32",
   "metadata": {
    "execution": {
     "iopub.execute_input": "2021-12-31T10:24:35.217547Z",
     "iopub.status.busy": "2021-12-31T10:24:35.212542Z",
     "iopub.status.idle": "2021-12-31T10:24:35.220141Z",
     "shell.execute_reply": "2021-12-31T10:24:35.220677Z",
     "shell.execute_reply.started": "2021-12-31T10:23:18.170441Z"
    },
    "papermill": {
     "duration": 0.05294,
     "end_time": "2021-12-31T10:24:35.220830",
     "exception": false,
     "start_time": "2021-12-31T10:24:35.167890",
     "status": "completed"
    },
    "tags": []
   },
   "outputs": [
    {
     "data": {
      "text/html": [
       "<div>\n",
       "<style scoped>\n",
       "    .dataframe tbody tr th:only-of-type {\n",
       "        vertical-align: middle;\n",
       "    }\n",
       "\n",
       "    .dataframe tbody tr th {\n",
       "        vertical-align: top;\n",
       "    }\n",
       "\n",
       "    .dataframe thead th {\n",
       "        text-align: right;\n",
       "    }\n",
       "</style>\n",
       "<table border=\"1\" class=\"dataframe\">\n",
       "  <thead>\n",
       "    <tr style=\"text-align: right;\">\n",
       "      <th></th>\n",
       "      <th>ImageId</th>\n",
       "      <th>Label</th>\n",
       "    </tr>\n",
       "  </thead>\n",
       "  <tbody>\n",
       "    <tr>\n",
       "      <th>0</th>\n",
       "      <td>1</td>\n",
       "      <td>2</td>\n",
       "    </tr>\n",
       "    <tr>\n",
       "      <th>1</th>\n",
       "      <td>2</td>\n",
       "      <td>0</td>\n",
       "    </tr>\n",
       "    <tr>\n",
       "      <th>2</th>\n",
       "      <td>3</td>\n",
       "      <td>9</td>\n",
       "    </tr>\n",
       "    <tr>\n",
       "      <th>3</th>\n",
       "      <td>4</td>\n",
       "      <td>2</td>\n",
       "    </tr>\n",
       "    <tr>\n",
       "      <th>4</th>\n",
       "      <td>5</td>\n",
       "      <td>3</td>\n",
       "    </tr>\n",
       "  </tbody>\n",
       "</table>\n",
       "</div>"
      ],
      "text/plain": [
       "   ImageId  Label\n",
       "0        1      2\n",
       "1        2      0\n",
       "2        3      9\n",
       "3        4      2\n",
       "4        5      3"
      ]
     },
     "execution_count": 48,
     "metadata": {},
     "output_type": "execute_result"
    }
   ],
   "source": [
    "output.head()"
   ]
  },
  {
   "cell_type": "code",
   "execution_count": 49,
   "id": "fc432e9e",
   "metadata": {
    "execution": {
     "iopub.execute_input": "2021-12-31T10:24:35.309828Z",
     "iopub.status.busy": "2021-12-31T10:24:35.309217Z",
     "iopub.status.idle": "2021-12-31T10:24:35.348846Z",
     "shell.execute_reply": "2021-12-31T10:24:35.348233Z",
     "shell.execute_reply.started": "2021-12-31T10:23:47.150803Z"
    },
    "papermill": {
     "duration": 0.085201,
     "end_time": "2021-12-31T10:24:35.349026",
     "exception": false,
     "start_time": "2021-12-31T10:24:35.263825",
     "status": "completed"
    },
    "tags": []
   },
   "outputs": [],
   "source": [
    "output.to_csv('submission.csv', index=False)"
   ]
  },
  {
   "cell_type": "code",
   "execution_count": null,
   "id": "f8d6e269",
   "metadata": {},
   "outputs": [],
   "source": []
  }
 ],
 "metadata": {
  "kernelspec": {
   "display_name": "Python 3",
   "language": "python",
   "name": "python3"
  },
  "language_info": {
   "codemirror_mode": {
    "name": "ipython",
    "version": 3
   },
   "file_extension": ".py",
   "mimetype": "text/x-python",
   "name": "python",
   "nbconvert_exporter": "python",
   "pygments_lexer": "ipython3",
   "version": "3.8.8"
  },
  "papermill": {
   "default_parameters": {},
   "duration": 35.376535,
   "end_time": "2021-12-31T10:24:38.265557",
   "environment_variables": {},
   "exception": null,
   "input_path": "__notebook__.ipynb",
   "output_path": "__notebook__.ipynb",
   "parameters": {},
   "start_time": "2021-12-31T10:24:02.889022",
   "version": "2.3.3"
  }
 },
 "nbformat": 4,
 "nbformat_minor": 5
}
