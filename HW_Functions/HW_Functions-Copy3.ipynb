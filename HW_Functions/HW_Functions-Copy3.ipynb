{
 "cells": [
  {
   "cell_type": "markdown",
   "metadata": {},
   "source": [
    "#### Дано\n",
    "Вам нужно помочь секретарю автоматизировать работу. Для этого нужно написать программу, которая будет на основе хранимых данных исполнять пользовательские команды.\n",
    "\n",
    "Исходные данные имеют следующую структуру:\n",
    "\n",
    "1. перечень всех документов\n",
    "\n",
    "documents = [\n",
    "{‘type’: ‘passport’, ‘number’: ‘2207 876234’, ‘name’: ‘Василий Гупкин’},\n",
    "{‘type’: ‘invoice’, ‘number’: ‘11-2’, ‘name’: ‘Геннадий Покемонов’},\n",
    "{‘type’: ‘insurance’, ‘number’: ‘10006’, ‘name’: ‘Аристарх Павлов’}\n",
    "]\n",
    "\n",
    "2.перечень полок, на которых хранятся документы (если документ есть в documents, то он обязательно должен быть и в directories)\n",
    "\n",
    "directories = {\n",
    "‘1’: [‘2207 876234’, ‘11-2’],\n",
    "‘2’: [‘10006’],\n",
    "‘3’: []\n",
    "}"
   ]
  },
  {
   "cell_type": "markdown",
   "metadata": {},
   "source": [
    "### Задание 1\n",
    "#### Пункт 1. Пользователь по команде “p” может узнать владельца документа по его номеру\n",
    "Примеры работы:\n",
    "\n",
    "1:\n",
    "\n",
    "Введите команду:\n",
    "p\n",
    "\n",
    "Введите номер документа:\n",
    "10006\n",
    "\n",
    "Результат:\n",
    "Владелец документа: Аристарх Павлов\n",
    "\n",
    "2:\n",
    "\n",
    "Введите команду:\n",
    "p\n",
    "\n",
    "Введите номер документа:\n",
    "12345\n",
    "\n",
    "Результат:\n",
    "Документ не найден в базе"
   ]
  },
  {
   "cell_type": "code",
   "execution_count": 1,
   "metadata": {},
   "outputs": [
    {
     "name": "stdout",
     "output_type": "stream",
     "text": [
      "2207 876234\n",
      "11-2\n",
      "10006\n"
     ]
    }
   ],
   "source": [
    "documents = [\n",
    "    {'type': 'passport', 'number': '2207 876234', 'name': 'Василий Гупкин'},\n",
    "    {'type': 'invoice', 'number': '11-2', 'name': 'Геннадий Покемонов'}, \n",
    "    {'type': 'insurance', 'number': '10006', 'name': 'Аристарх Павлов'}\n",
    "]\n",
    "#documents[1]['name']\n",
    "for a in documents:\n",
    "    print(a['number'])"
   ]
  },
  {
   "cell_type": "code",
   "execution_count": 22,
   "metadata": {},
   "outputs": [],
   "source": [
    "def find_id (person):\n",
    "    owner = []\n",
    "    komanda = input('Введите команду: ')\n",
    "    dok_nr = input('Введите номер документа: ')\n",
    "    if komanda == 'p':\n",
    "        for info in person:\n",
    "            if dok_nr == info['number']:\n",
    "                #print('Владелец документа ' , info['name'])\n",
    "                owner.append(info['name'])\n",
    "            else:\n",
    "                #print('Документа в базе нет')\n",
    "                pass\n",
    "        print ('Владелец документа' , owner)\n",
    "    elif komanda != 'p':\n",
    "        print('Введите правильную команду')\n",
    "    else:\n",
    "        print('Документа в базе нет')\n",
    "    \n",
    "\n",
    "                \n"
   ]
  },
  {
   "cell_type": "code",
   "execution_count": 23,
   "metadata": {},
   "outputs": [
    {
     "name": "stdout",
     "output_type": "stream",
     "text": [
      "Введите команду: p\n",
      "Введите номер документа: 10006\n",
      "Владелец документа ['Аристарх Павлов']\n"
     ]
    }
   ],
   "source": [
    "find_id(documents)"
   ]
  },
  {
   "cell_type": "markdown",
   "metadata": {},
   "source": [
    "### Комментарий\n",
    "Я попробовал двумя способами, в т.ч. через цикл while, не получается запросить у юзера новый инпут в случае неверной команды.\n",
    " А так. вроде функция функционируеет. "
   ]
  },
  {
   "cell_type": "markdown",
   "metadata": {},
   "source": [
    "#### Пункт 2. \n",
    "Пользователь по команде “s” может по номеру документа узнать на какой полке он хранится\n",
    "Примеры работы:\n",
    "\n",
    "Введите команду:\n",
    "s\n",
    "\n",
    "Введите номер документа:\n",
    "10006\n",
    "\n",
    "Результат:\n",
    "Документ хранится на полке: 2\n",
    "\n",
    "Введите команду:\n",
    "p\n",
    "\n",
    "Введите номер документа:\n",
    "12345\n",
    "\n",
    "Результат:\n",
    "Документ не найден в базе"
   ]
  },
  {
   "cell_type": "code",
   "execution_count": 24,
   "metadata": {
    "scrolled": true
   },
   "outputs": [],
   "source": [
    "directories = {'1': ['2207 876234', '11-2'], '2': ['10006'], '3': ['0']}\n"
   ]
  },
  {
   "cell_type": "code",
   "execution_count": 4,
   "metadata": {},
   "outputs": [
    {
     "name": "stdout",
     "output_type": "stream",
     "text": [
      "Введите команду: s\n",
      "Введите номер документа: 11-2\n",
      "ваш документ на полке  1\n"
     ]
    }
   ],
   "source": [
    "def find_id (shelf_nr):\n",
    "    komanda = input('Введите команду: ')\n",
    "    dok_nr = input('Введите номер документа: ')\n",
    "    if komanda == 's':\n",
    "        for a, b in shelf_nr.items():\n",
    "            if dok_nr in shelf_nr[a]:\n",
    "                print('ваш документ на полке ', a)\n",
    "            else:\n",
    "                pass\n",
    "    else:\n",
    "        print('неправильная команда')\n",
    "   \n",
    "        \n",
    "        \n",
    "find_id(directories)"
   ]
  },
  {
   "cell_type": "markdown",
   "metadata": {},
   "source": [
    "#### Пункт 3. \n",
    "Пользователь по команде “l” может увидеть полную информацию по всем документам\n",
    "Пример работы:\n",
    "\n",
    "Введите команду:\n",
    "l\n",
    "\n",
    "Результат:\n",
    "\n",
    "№: 2207 876234, тип: passport, владелец: Василий Гупкин, полка хранения: 1\n",
    "№: 11-2, тип: invoice, владелец: Геннадий Покемонов, полка хранения: 1\n",
    "№: 10006, тип: insurance, владелец: Аристарх Павлов, полка хранения: 2\n"
   ]
  },
  {
   "cell_type": "code",
   "execution_count": 17,
   "metadata": {},
   "outputs": [],
   "source": [
    "documents = [\n",
    "    {'type': 'passport', 'number': '2207 876234', 'name': 'Василий Гупкин'},\n",
    "    {'type': 'invoice', 'number': '11-2', 'name': 'Геннадий Покемонов'}, \n",
    "    {'type': 'insurance', 'number': '10006', 'name': 'Аристарх Павлов'}\n",
    "]\n",
    "directories = {'1': ['2207 876234', '11-2'], '2': ['10006'], '3': ['0']}\n",
    "\n",
    "    \n",
    "        "
   ]
  },
  {
   "cell_type": "code",
   "execution_count": 18,
   "metadata": {},
   "outputs": [
    {
     "name": "stdout",
     "output_type": "stream",
     "text": [
      "{'type': 'passport', 'number': '2207 876234', 'name': 'Василий Гупкин'}  Полка хранения документа №  1\n",
      "{'type': 'invoice', 'number': '11-2', 'name': 'Геннадий Покемонов'}  Полка хранения документа №  1\n",
      "{'type': 'insurance', 'number': '10006', 'name': 'Аристарх Павлов'}  Полка хранения документа №  2\n"
     ]
    }
   ],
   "source": [
    "def info(documents, directories):\n",
    "    for shelf, content in directories.items():\n",
    "        for doc in documents:\n",
    "            if doc['number'] in content :\n",
    "                print(doc,' Полка хранения документа № ', shelf)\n",
    "\n",
    "info(documents, directories)"
   ]
  },
  {
   "cell_type": "code",
   "execution_count": null,
   "metadata": {},
   "outputs": [],
   "source": []
  },
  {
   "cell_type": "markdown",
   "metadata": {},
   "source": [
    "#### Пункт 4. \n",
    "Пользователь по команде “as” может добавить новую полку"
   ]
  },
  {
   "cell_type": "code",
   "execution_count": 111,
   "metadata": {},
   "outputs": [
    {
     "data": {
      "text/plain": [
       "dict"
      ]
     },
     "execution_count": 111,
     "metadata": {},
     "output_type": "execute_result"
    }
   ],
   "source": [
    "directories = {'1': ['2207 876234', '11-2'], '2': ['10006'], '3': ['0'], '99': ['99']}\n",
    "type(directories)"
   ]
  },
  {
   "cell_type": "code",
   "execution_count": 112,
   "metadata": {},
   "outputs": [],
   "source": [
    "def polki(add_polka):\n",
    "    komanda = input('введите команду для добавления плки  ')\n",
    "    polka_nr = input('введите номер полки ')\n",
    "    if komanda == 'ads':    \n",
    "        for shelf, content in add_polka.items():\n",
    "            if polka_nr in shelf:\n",
    "                print('такая полка уже есть ')\n",
    "            else:\n",
    "                add_polka[polka_nr] = ''\n",
    "                print('Полка нр ', polka_nr, ' успешно добавлена!!!')\n",
    "                break\n",
    "    else:\n",
    "        print('введите правильную команду ')\n",
    "    x = add_polka.keys()\n",
    "    return print ('текущий перечень полок', x)\n"
   ]
  },
  {
   "cell_type": "code",
   "execution_count": 116,
   "metadata": {},
   "outputs": [
    {
     "name": "stdout",
     "output_type": "stream",
     "text": [
      "введите команду для добавления плки  ads\n",
      "введите номер полки 6\n",
      "Полка нр  6  успешно добавлена!!!\n",
      "текущий перечень полок dict_keys(['1', '2', '3', '99', '5', '6'])\n"
     ]
    }
   ],
   "source": [
    "polki(directories)"
   ]
  },
  {
   "cell_type": "markdown",
   "metadata": {},
   "source": [
    "### Пункт 5. \n",
    "\n",
    "Пользователь по команде “ds” может удалить существующую полку из данных (только если она пустая)\n",
    "Примеры работы:\n",
    "\n",
    "Введите команду:\n",
    "ds\n",
    "\n",
    "Введите номер полки:\n",
    "3\n",
    "Результат:\n",
    "Полка удалена. Текущий перечень полок: 1, 2.\n",
    "\n",
    "Введите команду:\n",
    "ds\n",
    "\n",
    "Введите номер полки:\n",
    "1\n",
    "Результат:\n",
    "На полке есть документа, удалите их перед удалением полки. Текущий перечень полок: 1, 2, 3.\n",
    "\n",
    "Введите команду:\n",
    "ds\n",
    "\n",
    "Введите номер полки:\n",
    "4\n",
    "Результат:\n",
    "Такой полки не существует. Текущий перечень полок: 1, 2, 3"
   ]
  },
  {
   "cell_type": "code",
   "execution_count": 117,
   "metadata": {},
   "outputs": [],
   "source": [
    "def polka_out(polki_net):\n",
    "    komanda = input('введите команду для добавления плки  ')\n",
    "    polka_nr = input('введите номер полки ')\n",
    "    if komanda != 'ds':\n",
    "        print('введите правильную команду')\n",
    "    else:\n",
    "        if polka_nr not in polki_net.keys():\n",
    "            print('такой полки нет')\n",
    "        else:\n",
    "            for shelf, content in polki_net.items():\n",
    "                if polka_nr in shelf and content == '':\n",
    "                    polki_net.pop(polka_nr)\n",
    "                    print('полка под нр ', polka_nr, ' удалена')\n",
    "                    break\n",
    "                elif polka_nr in shelf and content != '':\n",
    "                    print('на полке что-то есть удалять нельзя')\n",
    "                else:\n",
    "                    pass\n",
    "    x = polki_net.keys()\n",
    "    return print ('текущий перечень полок', x)"
   ]
  },
  {
   "cell_type": "code",
   "execution_count": 118,
   "metadata": {},
   "outputs": [
    {
     "name": "stdout",
     "output_type": "stream",
     "text": [
      "введите команду для добавления плки  ds\n",
      "введите номер полки 6\n",
      "полка под нр  6  удалена\n",
      "текущий перечень полок dict_keys(['1', '2', '3', '99', '5'])\n"
     ]
    }
   ],
   "source": [
    "polka_out(directories)"
   ]
  }
 ],
 "metadata": {
  "kernelspec": {
   "display_name": "Python 3",
   "language": "python",
   "name": "python3"
  },
  "language_info": {
   "codemirror_mode": {
    "name": "ipython",
    "version": 3
   },
   "file_extension": ".py",
   "mimetype": "text/x-python",
   "name": "python",
   "nbconvert_exporter": "python",
   "pygments_lexer": "ipython3",
   "version": "3.8.5"
  }
 },
 "nbformat": 4,
 "nbformat_minor": 4
}
