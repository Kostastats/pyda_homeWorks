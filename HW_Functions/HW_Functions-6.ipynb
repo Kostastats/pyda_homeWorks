{
 "cells": [
  {
   "cell_type": "markdown",
   "metadata": {},
   "source": [
    "#### Дано\n",
    "Вам нужно помочь секретарю автоматизировать работу. Для этого нужно написать программу, которая будет на основе хранимых данных исполнять пользовательские команды.\n",
    "\n",
    "Исходные данные имеют следующую структуру:\n",
    "\n",
    "1. перечень всех документов\n",
    "\n",
    "documents = [\n",
    "{‘type’: ‘passport’, ‘number’: ‘2207 876234’, ‘name’: ‘Василий Гупкин’},\n",
    "{‘type’: ‘invoice’, ‘number’: ‘11-2’, ‘name’: ‘Геннадий Покемонов’},\n",
    "{‘type’: ‘insurance’, ‘number’: ‘10006’, ‘name’: ‘Аристарх Павлов’}\n",
    "]\n",
    "\n",
    "2.перечень полок, на которых хранятся документы (если документ есть в documents, то он обязательно должен быть и в directories)\n",
    "\n",
    "directories = {\n",
    "‘1’: [‘2207 876234’, ‘11-2’],\n",
    "‘2’: [‘10006’],\n",
    "‘3’: []\n",
    "}"
   ]
  },
  {
   "cell_type": "markdown",
   "metadata": {},
   "source": [
    "### Задание 1\n",
    "#### Пункт 1. Пользователь по команде “p” может узнать владельца документа по его номеру\n",
    "Примеры работы:\n",
    "\n",
    "1:\n",
    "\n",
    "Введите команду:\n",
    "p\n",
    "\n",
    "Введите номер документа:\n",
    "10006\n",
    "\n",
    "Результат:\n",
    "Владелец документа: Аристарх Павлов\n",
    "\n",
    "2:\n",
    "\n",
    "Введите команду:\n",
    "p\n",
    "\n",
    "Введите номер документа:\n",
    "12345\n",
    "\n",
    "Результат:\n",
    "Документ не найден в базе"
   ]
  },
  {
   "cell_type": "code",
   "execution_count": 1,
   "metadata": {},
   "outputs": [],
   "source": [
    "documents = [\n",
    "    {'type': 'passport', 'number': '2207 876234', 'name': 'Василий Гупкин'},\n",
    "    {'type': 'invoice', 'number': '11-2', 'name': 'Геннадий Покемонов'}, \n",
    "    {'type': 'insurance', 'number': '10006', 'name': 'Аристарх Павлов'}\n",
    "]\n"
   ]
  },
  {
   "cell_type": "code",
   "execution_count": 4,
   "metadata": {},
   "outputs": [],
   "source": [
    "def who_is(person):\n",
    "    while True:\n",
    "        komanda = input('Введите команду: ')\n",
    "        if komanda != 'p':\n",
    "            print('Введите правильную команду')\n",
    "        else:\n",
    "            owner = []\n",
    "            no_owner = 0\n",
    "            dok_nr = input('Введите номер документа: ')\n",
    "            for info in person:\n",
    "                if dok_nr == info['number']:\n",
    "                    owner.append(info['name'])\n",
    "                    print('Владелец документа ' , owner)\n",
    "                    break\n",
    "                else:\n",
    "                    no_owner += 1\n",
    "            if no_owner == len(person):\n",
    "                print('Такого док-та в базе нет ')\n",
    "            else:\n",
    "                pass\n",
    "        break"
   ]
  },
  {
   "cell_type": "code",
   "execution_count": 5,
   "metadata": {},
   "outputs": [
    {
     "name": "stdout",
     "output_type": "stream",
     "text": [
      "Введите команду: p\n",
      "Введите номер документа: 2207 876234\n",
      "Владелец документа  ['Василий Гупкин']\n"
     ]
    }
   ],
   "source": [
    "who_is(documents)"
   ]
  },
  {
   "cell_type": "markdown",
   "metadata": {},
   "source": [
    "#### Пункт 2. \n",
    "Пользователь по команде “s” может по номеру документа узнать на какой полке он хранится\n",
    "Примеры работы:\n",
    "\n",
    "Введите команду:\n",
    "s\n",
    "\n",
    "Введите номер документа:\n",
    "10006\n",
    "\n",
    "Результат:\n",
    "Документ хранится на полке: 2\n",
    "\n",
    "Введите команду:\n",
    "p\n",
    "\n",
    "Введите номер документа:\n",
    "12345\n",
    "\n",
    "Результат:\n",
    "Документ не найден в базе"
   ]
  },
  {
   "cell_type": "code",
   "execution_count": 7,
   "metadata": {
    "scrolled": true
   },
   "outputs": [],
   "source": [
    "directories = {'1': ['2207 876234', '11-2'], '2': ['10006'], '3': ['0']}\n"
   ]
  },
  {
   "cell_type": "code",
   "execution_count": 12,
   "metadata": {},
   "outputs": [],
   "source": [
    "def where_it(by_id):\n",
    "    while True:\n",
    "        komanda = input('Введите команду: ')\n",
    "        if komanda != 's':\n",
    "            print('Введите правильную команду')\n",
    "        else:\n",
    "            not_found = 0\n",
    "            dok_nr = input('Введите номер документа: ')\n",
    "            for a, b in by_id.items():\n",
    "                if dok_nr in by_id[a]:\n",
    "                    print('ваш документ на полке ', a)\n",
    "                else:\n",
    "                    not_found += 1\n",
    "            if not_found == len(by_id):\n",
    "                print('Документ не найден в базе')\n",
    "            else:\n",
    "                pass\n",
    "        break"
   ]
  },
  {
   "cell_type": "code",
   "execution_count": 16,
   "metadata": {},
   "outputs": [
    {
     "name": "stdout",
     "output_type": "stream",
     "text": [
      "Введите команду: s\n",
      "Введите номер документа: 11-2\n",
      "ваш документ на полке  1\n"
     ]
    }
   ],
   "source": [
    "where_it(directories)"
   ]
  },
  {
   "cell_type": "markdown",
   "metadata": {},
   "source": [
    "#### Пункт 3. \n",
    "Пользователь по команде “l” может увидеть полную информацию по всем документам\n",
    "Пример работы:\n",
    "\n",
    "Введите команду:\n",
    "l\n",
    "\n",
    "Результат:\n",
    "\n",
    "№: 2207 876234, тип: passport, владелец: Василий Гупкин, полка хранения: 1\n",
    "№: 11-2, тип: invoice, владелец: Геннадий Покемонов, полка хранения: 1\n",
    "№: 10006, тип: insurance, владелец: Аристарх Павлов, полка хранения: 2\n"
   ]
  },
  {
   "cell_type": "code",
   "execution_count": 22,
   "metadata": {},
   "outputs": [
    {
     "name": "stdout",
     "output_type": "stream",
     "text": [
      "2207 876234\n",
      "11-2\n",
      "10006\n"
     ]
    }
   ],
   "source": [
    "documents = [\n",
    "    {'type': 'passport', 'number': '2207 876234', 'name': 'Василий Гупкин'},\n",
    "    {'type': 'invoice', 'number': '11-2', 'name': 'Геннадий Покемонов'}, \n",
    "    {'type': 'insurance', 'number': '10006', 'name': 'Аристарх Павлов'}\n",
    "]\n",
    "directories = {'1': ['2207 876234', '11-2'], '2': ['10006'], '3': ['0']}\n",
    " \n",
    "for doc in documents:\n",
    "    print(doc['number'])"
   ]
  },
  {
   "cell_type": "code",
   "execution_count": 29,
   "metadata": {},
   "outputs": [],
   "source": [
    "def where_it(documents, directories):\n",
    "    while True:\n",
    "        komanda = input('Введите команду: ')\n",
    "        if komanda != 'l':\n",
    "            print('Введите правильную команду')\n",
    "        else:\n",
    "            show_all = []\n",
    "            for shelf, content in directories.items():\n",
    "                for doc in documents:\n",
    "                    if doc['number'] in content :\n",
    "                        combined_info = ('№: ', doc['number'], 'тип: ', doc['type'], 'владелец: ',\n",
    "                                         doc['name'], ' Полка хранения документа ', shelf)\n",
    "                        show_all.append(combined_info)\n",
    "                        show_as_string = str(show_all)\n",
    "            print(show_as_string.strip(\"'},{)(]['\"))\n",
    "        break"
   ]
  },
  {
   "cell_type": "code",
   "execution_count": 30,
   "metadata": {},
   "outputs": [
    {
     "name": "stdout",
     "output_type": "stream",
     "text": [
      "Введите команду: l\n",
      "№: ', '2207 876234', 'тип: ', 'passport', 'владелец: ', 'Василий Гупкин', ' Полка хранения документа ', '1'), ('№: ', '11-2', 'тип: ', 'invoice', 'владелец: ', 'Геннадий Покемонов', ' Полка хранения документа ', '1'), ('№: ', '10006', 'тип: ', 'insurance', 'владелец: ', 'Аристарх Павлов', ' Полка хранения документа ', '2\n"
     ]
    }
   ],
   "source": [
    "where_it(documents, directories)"
   ]
  },
  {
   "cell_type": "markdown",
   "metadata": {},
   "source": [
    "#### Пункт 4. \n",
    "Пользователь по команде “ads” может добавить новую полку"
   ]
  },
  {
   "cell_type": "code",
   "execution_count": 41,
   "metadata": {},
   "outputs": [],
   "source": [
    "directories = {'1': ['2207 876234', '11-2'], '2': ['10006'], '3': ['0']} \n",
    "        \n",
    "        "
   ]
  },
  {
   "cell_type": "code",
   "execution_count": 42,
   "metadata": {},
   "outputs": [],
   "source": [
    "def polki(add_polka):\n",
    "    while True:\n",
    "        komanda = input('Введите команду: ')\n",
    "        if komanda != 'ads':\n",
    "            print('Введите правильную команду')\n",
    "        else:\n",
    "            polka_nr = input('введите номер полки ')\n",
    "            shelves = []\n",
    "            more_shelves = []\n",
    "            polka_count = 0\n",
    "            for shelf in add_polka:\n",
    "                shelves.append(shelf)\n",
    "            if polka_nr in shelves:\n",
    "                print('такая полка уже существует.Текущий перечень полок: ', shelves)\n",
    "            else:\n",
    "                directories.update({polka_nr :[]})\n",
    "                polka_count += 1\n",
    "            for x in directories:\n",
    "                more_shelves.append(x)\n",
    "            if polka_count == 1:\n",
    "                print('Полка добавлена.Текущий перечень полок: ', more_shelves)\n",
    "        break"
   ]
  },
  {
   "cell_type": "code",
   "execution_count": 56,
   "metadata": {},
   "outputs": [
    {
     "name": "stdout",
     "output_type": "stream",
     "text": [
      "Введите команду: ads\n",
      "введите номер полки 8\n",
      "Полка добавлена.Текущий перечень полок:  ['1', '2', '3', '4', '5', '6', '7', '8']\n"
     ]
    }
   ],
   "source": [
    "polki(directories)"
   ]
  },
  {
   "cell_type": "code",
   "execution_count": 57,
   "metadata": {},
   "outputs": [
    {
     "data": {
      "text/plain": [
       "{'1': ['2207 876234', '11-2'],\n",
       " '2': ['10006'],\n",
       " '3': ['0'],\n",
       " '4': [],\n",
       " '5': [],\n",
       " '6': [],\n",
       " '7': [],\n",
       " '8': []}"
      ]
     },
     "execution_count": 57,
     "metadata": {},
     "output_type": "execute_result"
    }
   ],
   "source": [
    "directories"
   ]
  },
  {
   "cell_type": "markdown",
   "metadata": {},
   "source": [
    "### Пункт 5. \n",
    "\n",
    "Пользователь по команде “ds” может удалить существующую полку из данных (только если она пустая)\n",
    "Примеры работы:\n",
    "\n",
    "Введите команду:\n",
    "ds\n",
    "\n",
    "Введите номер полки:\n",
    "3\n",
    "Результат:\n",
    "Полка удалена. Текущий перечень полок: 1, 2.\n",
    "\n",
    "Введите команду:\n",
    "ds\n",
    "\n",
    "Введите номер полки:\n",
    "1\n",
    "Результат:\n",
    "На полке есть документа, удалите их перед удалением полки. Текущий перечень полок: 1, 2, 3.\n",
    "\n",
    "Введите команду:\n",
    "ds\n",
    "\n",
    "Введите номер полки:\n",
    "4\n",
    "Результат:\n",
    "Такой полки не существует. Текущий перечень полок: 1, 2, 3"
   ]
  },
  {
   "cell_type": "code",
   "execution_count": 59,
   "metadata": {},
   "outputs": [],
   "source": [
    "def polka_out(polka_remove):\n",
    "    while True:\n",
    "        komanda = input('Введите команду: ')\n",
    "        if komanda != 'ds':\n",
    "            print('Введите правильную команду')\n",
    "        else:\n",
    "            polka_nr = input('введите номер полки ')\n",
    "            polki = []\n",
    "            polki_net = []\n",
    "            polka_count = 0\n",
    "            checker = 0\n",
    "            for x in polka_remove:\n",
    "                polki.append(x)\n",
    "            for shelf, content in polka_remove.items():\n",
    "                if polka_nr == shelf:\n",
    "                    if content == []:\n",
    "                        polka_remove.pop(polka_nr)\n",
    "                        polka_count += 1\n",
    "                        break #ставлю чтобы не выдавало ошибку\n",
    "                    else:\n",
    "                        print('На полке есть документа, удалите их перед удалением полки. Текущий перечень полок: ', polki)\n",
    "                else:\n",
    "                    checker += 1\n",
    "            if checker == len(polki):\n",
    "                print('такой полки нет')\n",
    "            else:\n",
    "                pass\n",
    "            if polka_count == 1:\n",
    "                for x in polka_remove:\n",
    "                    polki_net.append(x)\n",
    "                print('Полка удалена. Текущий перечень полок: ', polki_net)\n",
    "        break"
   ]
  },
  {
   "cell_type": "code",
   "execution_count": 60,
   "metadata": {},
   "outputs": [
    {
     "name": "stdout",
     "output_type": "stream",
     "text": [
      "Введите команду: ds\n",
      "введите номер полки 8\n",
      "Полка удалена. Текущий перечень полок:  ['1', '2', '3', '4', '5', '6', '7']\n"
     ]
    }
   ],
   "source": [
    "polka_out(directories)"
   ]
  }
 ],
 "metadata": {
  "kernelspec": {
   "display_name": "Python 3",
   "language": "python",
   "name": "python3"
  },
  "language_info": {
   "codemirror_mode": {
    "name": "ipython",
    "version": 3
   },
   "file_extension": ".py",
   "mimetype": "text/x-python",
   "name": "python",
   "nbconvert_exporter": "python",
   "pygments_lexer": "ipython3",
   "version": "3.8.5"
  }
 },
 "nbformat": 4,
 "nbformat_minor": 4
}
