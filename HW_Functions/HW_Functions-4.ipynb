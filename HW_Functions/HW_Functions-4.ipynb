{
 "cells": [
  {
   "cell_type": "markdown",
   "metadata": {},
   "source": [
    "#### Дано\n",
    "Вам нужно помочь секретарю автоматизировать работу. Для этого нужно написать программу, которая будет на основе хранимых данных исполнять пользовательские команды.\n",
    "\n",
    "Исходные данные имеют следующую структуру:\n",
    "\n",
    "1. перечень всех документов\n",
    "\n",
    "documents = [\n",
    "{‘type’: ‘passport’, ‘number’: ‘2207 876234’, ‘name’: ‘Василий Гупкин’},\n",
    "{‘type’: ‘invoice’, ‘number’: ‘11-2’, ‘name’: ‘Геннадий Покемонов’},\n",
    "{‘type’: ‘insurance’, ‘number’: ‘10006’, ‘name’: ‘Аристарх Павлов’}\n",
    "]\n",
    "\n",
    "2.перечень полок, на которых хранятся документы (если документ есть в documents, то он обязательно должен быть и в directories)\n",
    "\n",
    "directories = {\n",
    "‘1’: [‘2207 876234’, ‘11-2’],\n",
    "‘2’: [‘10006’],\n",
    "‘3’: []\n",
    "}"
   ]
  },
  {
   "cell_type": "markdown",
   "metadata": {},
   "source": [
    "### Задание 1\n",
    "#### Пункт 1. Пользователь по команде “p” может узнать владельца документа по его номеру\n",
    "Примеры работы:\n",
    "\n",
    "1:\n",
    "\n",
    "Введите команду:\n",
    "p\n",
    "\n",
    "Введите номер документа:\n",
    "10006\n",
    "\n",
    "Результат:\n",
    "Владелец документа: Аристарх Павлов\n",
    "\n",
    "2:\n",
    "\n",
    "Введите команду:\n",
    "p\n",
    "\n",
    "Введите номер документа:\n",
    "12345\n",
    "\n",
    "Результат:\n",
    "Документ не найден в базе"
   ]
  },
  {
   "cell_type": "code",
   "execution_count": 1,
   "metadata": {},
   "outputs": [],
   "source": [
    "documents = [\n",
    "    {'type': 'passport', 'number': '2207 876234', 'name': 'Василий Гупкин'},\n",
    "    {'type': 'invoice', 'number': '11-2', 'name': 'Геннадий Покемонов'}, \n",
    "    {'type': 'insurance', 'number': '10006', 'name': 'Аристарх Павлов'}\n",
    "]\n",
    "#documents[1]['name']\n",
    "#for a in documents:\n",
    "    #print(len(a))"
   ]
  },
  {
   "cell_type": "code",
   "execution_count": 2,
   "metadata": {},
   "outputs": [],
   "source": [
    "def find_id (person):\n",
    "    owner = []\n",
    "    no_owner = 0\n",
    "    dok_nr = input('Введите номер документа: ')\n",
    "    for info in person:\n",
    "        if dok_nr == info['number']:\n",
    "            #print('Владелец документа ' , info['name'])\n",
    "            owner.append(info['name'])\n",
    "            no_owner -= 0\n",
    "            print('Владелец документа ' , owner)\n",
    "        else:\n",
    "            no_owner += 1\n",
    "            #print(no_owner)\n",
    "    if no_owner == len(person):\n",
    "        print('Такого док-та в базе нет ')\n",
    "    else:\n",
    "        pass\n",
    "        \n",
    "\n",
    "\n",
    "\n",
    "    "
   ]
  },
  {
   "cell_type": "code",
   "execution_count": 6,
   "metadata": {},
   "outputs": [
    {
     "name": "stdout",
     "output_type": "stream",
     "text": [
      "Введите команду: p\n",
      "Введите номер документа: 11-2\n",
      "Владелец документа  ['Геннадий Покемонов']\n"
     ]
    }
   ],
   "source": [
    "komanda = input('Введите команду: ')\n",
    "if komanda != 'p':\n",
    "    print('Введите правильную команду')\n",
    "else:\n",
    "    find_id(documents)"
   ]
  },
  {
   "cell_type": "markdown",
   "metadata": {},
   "source": [
    "### Комментарий\n",
    "Тестировал много раз, сейчас работает код.\n",
    " \n",
    " Надеюсь ни чего не упустил."
   ]
  },
  {
   "cell_type": "markdown",
   "metadata": {},
   "source": [
    "#### Пункт 2. \n",
    "Пользователь по команде “s” может по номеру документа узнать на какой полке он хранится\n",
    "Примеры работы:\n",
    "\n",
    "Введите команду:\n",
    "s\n",
    "\n",
    "Введите номер документа:\n",
    "10006\n",
    "\n",
    "Результат:\n",
    "Документ хранится на полке: 2\n",
    "\n",
    "Введите команду:\n",
    "p\n",
    "\n",
    "Введите номер документа:\n",
    "12345\n",
    "\n",
    "Результат:\n",
    "Документ не найден в базе"
   ]
  },
  {
   "cell_type": "code",
   "execution_count": 7,
   "metadata": {
    "scrolled": true
   },
   "outputs": [],
   "source": [
    "directories = {'1': ['2207 876234', '11-2'], '2': ['10006'], '3': ['0']}\n"
   ]
  },
  {
   "cell_type": "code",
   "execution_count": 25,
   "metadata": {},
   "outputs": [],
   "source": [
    "def find_shelf(by_id):\n",
    "    not_found = 0\n",
    "    dok_nr = input('Введите номер документа: ')\n",
    "    for a, b in by_id.items():\n",
    "        if dok_nr in by_id[a]:\n",
    "            print('ваш документ на полке ', a)\n",
    "        else:\n",
    "            not_found += 1\n",
    "    if not_found == len(by_id):\n",
    "        print('Документ не найден в базе')\n",
    "    else:\n",
    "        pass\n",
    "    "
   ]
  },
  {
   "cell_type": "code",
   "execution_count": 27,
   "metadata": {},
   "outputs": [
    {
     "name": "stdout",
     "output_type": "stream",
     "text": [
      "Введите команду: s\n",
      "Введите номер документа: 2207 876234\n",
      "ваш документ на полке  1\n"
     ]
    }
   ],
   "source": [
    "komanda_s = input('Введите команду: ')\n",
    "if komanda_s != 's':\n",
    "    print('Введите правильную команду')\n",
    "else:\n",
    "    find_shelf(directories)"
   ]
  },
  {
   "cell_type": "markdown",
   "metadata": {},
   "source": [
    "#### Пункт 3. \n",
    "Пользователь по команде “l” может увидеть полную информацию по всем документам\n",
    "Пример работы:\n",
    "\n",
    "Введите команду:\n",
    "l\n",
    "\n",
    "Результат:\n",
    "\n",
    "№: 2207 876234, тип: passport, владелец: Василий Гупкин, полка хранения: 1\n",
    "№: 11-2, тип: invoice, владелец: Геннадий Покемонов, полка хранения: 1\n",
    "№: 10006, тип: insurance, владелец: Аристарх Павлов, полка хранения: 2\n"
   ]
  },
  {
   "cell_type": "code",
   "execution_count": 87,
   "metadata": {},
   "outputs": [],
   "source": [
    "documents = [\n",
    "    {'type': 'passport', 'number': '2207 876234', 'name': 'Василий Гупкин'},\n",
    "    {'type': 'invoice', 'number': '11-2', 'name': 'Геннадий Покемонов'}, \n",
    "    {'type': 'insurance', 'number': '10006', 'name': 'Аристарх Павлов'}\n",
    "]\n",
    "directories = {'1': ['2207 876234', '11-2'], '2': ['10006'], '3': ['0']}\n",
    " \n",
    "        "
   ]
  },
  {
   "cell_type": "code",
   "execution_count": 98,
   "metadata": {},
   "outputs": [],
   "source": [
    "def info(documents, directories):\n",
    "    show_all = []\n",
    "    for shelf, content in directories.items():\n",
    "        for doc in documents:\n",
    "            if doc['number'] in content :\n",
    "                combined_info = (doc,' Полка хранения документа № ', shelf)\n",
    "                show_all.append(combined_info)\n",
    "                show_as_string = str(show_all)\n",
    "    print(show_as_string.strip(\"'}{)(]['\"))"
   ]
  },
  {
   "cell_type": "code",
   "execution_count": 99,
   "metadata": {},
   "outputs": [
    {
     "name": "stdout",
     "output_type": "stream",
     "text": [
      "Введите команду: l\n",
      "type': 'passport', 'number': '2207 876234', 'name': 'Василий Гупкин'}, ' Полка хранения документа № ', '1'), ({'type': 'invoice', 'number': '11-2', 'name': 'Геннадий Покемонов'}, ' Полка хранения документа № ', '1'), ({'type': 'insurance', 'number': '10006', 'name': 'Аристарх Павлов'}, ' Полка хранения документа № ', '2\n"
     ]
    }
   ],
   "source": [
    "komanda_l = input('Введите команду: ')\n",
    "if komanda_l != 'l':\n",
    "    print('Введите правильную команду')\n",
    "else:\n",
    "    info(documents, directories)"
   ]
  },
  {
   "cell_type": "markdown",
   "metadata": {},
   "source": [
    "#### Пункт 4. \n",
    "Пользователь по команде “ads” может добавить новую полку"
   ]
  },
  {
   "cell_type": "code",
   "execution_count": 256,
   "metadata": {},
   "outputs": [],
   "source": [
    "directories = {'1': ['2207 876234', '11-2'], '2': ['10006'], '3': ['0']} \n",
    "        \n",
    "        "
   ]
  },
  {
   "cell_type": "code",
   "execution_count": 259,
   "metadata": {},
   "outputs": [],
   "source": [
    "def polki(add_polka):\n",
    "    polka_nr = input('введите номер полки ')\n",
    "    shelves = []\n",
    "    more_shelves = []\n",
    "    polka_count = 0\n",
    "    for shelf in add_polka:\n",
    "        shelves.append(shelf)\n",
    "    if polka_nr in shelves:\n",
    "        print('такая полка уже существует.Текущий перечень полок: ', shelves)\n",
    "    else:\n",
    "        directories.update({polka_nr :['0']})\n",
    "        polka_count += 1\n",
    "    for x in directories:\n",
    "        more_shelves.append(x)\n",
    "    if polka_count == 1:\n",
    "        print('Полка добавлена.Текущий перечень полок: ', more_shelves)"
   ]
  },
  {
   "cell_type": "code",
   "execution_count": 285,
   "metadata": {},
   "outputs": [
    {
     "name": "stdout",
     "output_type": "stream",
     "text": [
      "Введите команду: ads\n",
      "введите номер полки 9\n",
      "Полка добавлена.Текущий перечень полок:  ['1', '2', '3', '4', '5', '6', '7', '8', '9']\n"
     ]
    }
   ],
   "source": [
    "komanda_ads = input('Введите команду: ')\n",
    "if komanda_ads != 'ads':\n",
    "    print('Введите правильную команду')\n",
    "else:\n",
    "    polki(directories)"
   ]
  },
  {
   "cell_type": "code",
   "execution_count": 286,
   "metadata": {},
   "outputs": [
    {
     "data": {
      "text/plain": [
       "{'1': ['2207 876234', '11-2'],\n",
       " '2': ['10006'],\n",
       " '3': ['0'],\n",
       " '4': ['0'],\n",
       " '5': ['0'],\n",
       " '6': ['0'],\n",
       " '7': ['0'],\n",
       " '8': ['0'],\n",
       " '9': ['0']}"
      ]
     },
     "execution_count": 286,
     "metadata": {},
     "output_type": "execute_result"
    }
   ],
   "source": [
    "directories"
   ]
  },
  {
   "cell_type": "markdown",
   "metadata": {},
   "source": [
    "### Пункт 5. \n",
    "\n",
    "Пользователь по команде “ds” может удалить существующую полку из данных (только если она пустая)\n",
    "Примеры работы:\n",
    "\n",
    "Введите команду:\n",
    "ds\n",
    "\n",
    "Введите номер полки:\n",
    "3\n",
    "Результат:\n",
    "Полка удалена. Текущий перечень полок: 1, 2.\n",
    "\n",
    "Введите команду:\n",
    "ds\n",
    "\n",
    "Введите номер полки:\n",
    "1\n",
    "Результат:\n",
    "На полке есть документа, удалите их перед удалением полки. Текущий перечень полок: 1, 2, 3.\n",
    "\n",
    "Введите команду:\n",
    "ds\n",
    "\n",
    "Введите номер полки:\n",
    "4\n",
    "Результат:\n",
    "Такой полки не существует. Текущий перечень полок: 1, 2, 3"
   ]
  },
  {
   "cell_type": "code",
   "execution_count": 276,
   "metadata": {},
   "outputs": [],
   "source": [
    "def polka_out(polka_remove):\n",
    "    polka_nr = input('введите номер полки ')\n",
    "    polki = []\n",
    "    polki_net = []\n",
    "    polka_count = 0\n",
    "    checker = 0\n",
    "    for x in polka_remove:\n",
    "        polki.append(x)\n",
    "    for shelf, content in polka_remove.items():\n",
    "        if polka_nr == shelf:\n",
    "            if content == ['0']:\n",
    "                polka_remove.pop(polka_nr)\n",
    "                polka_count += 1\n",
    "                break #ставлю чтобы не выдавало ошибку\n",
    "            else:\n",
    "                print('На полке есть документа, удалите их перед удалением полки. Текущий перечень полок: ', polki)\n",
    "        else:\n",
    "            checker += 1\n",
    "    if checker == len(polki):\n",
    "        print('такой полки нет')\n",
    "    else:\n",
    "        pass\n",
    "    if polka_count == 1:\n",
    "        for x in polka_remove:\n",
    "            polki_net.append(x)\n",
    "        print('Полка удалена. Текущий перечень полок: ', polki_net) \n",
    "\n",
    "\n",
    "    \n",
    "\n"
   ]
  },
  {
   "cell_type": "code",
   "execution_count": 287,
   "metadata": {},
   "outputs": [
    {
     "name": "stdout",
     "output_type": "stream",
     "text": [
      "Введите команду: ds\n",
      "введите номер полки 9\n",
      "Полка удалена. Текущий перечень полок:  ['1', '2', '3', '4', '5', '6', '7', '8']\n"
     ]
    }
   ],
   "source": [
    "komanda_ads = input('Введите команду: ')\n",
    "if komanda_ads != 'ds':\n",
    "    print('Введите правильную команду')\n",
    "else:\n",
    "    polka_out(directories)"
   ]
  },
  {
   "cell_type": "code",
   "execution_count": null,
   "metadata": {},
   "outputs": [],
   "source": []
  }
 ],
 "metadata": {
  "kernelspec": {
   "display_name": "Python 3",
   "language": "python",
   "name": "python3"
  },
  "language_info": {
   "codemirror_mode": {
    "name": "ipython",
    "version": 3
   },
   "file_extension": ".py",
   "mimetype": "text/x-python",
   "name": "python",
   "nbconvert_exporter": "python",
   "pygments_lexer": "ipython3",
   "version": "3.8.5"
  }
 },
 "nbformat": 4,
 "nbformat_minor": 4
}
