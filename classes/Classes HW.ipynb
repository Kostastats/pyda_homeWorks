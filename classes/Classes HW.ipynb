{
 "cells": [
  {
   "cell_type": "markdown",
   "metadata": {},
   "source": [
    "# Домашнее задание к лекции «Понятие класса»"
   ]
  },
  {
   "cell_type": "markdown",
   "metadata": {},
   "source": [
    "### Задание 1\n",
    "\n",
    "Напишите функцию, которая возвращает название валюты (поле ‘Name’) с максимальным значением курса с помощью сервиса www.cbr-xml-daily.ru...ly_json.js"
   ]
  },
  {
   "cell_type": "code",
   "execution_count": 29,
   "metadata": {},
   "outputs": [],
   "source": [
    "import requests"
   ]
  },
  {
   "cell_type": "code",
   "execution_count": 57,
   "metadata": {},
   "outputs": [],
   "source": [
    "class Rate:\n",
    "    def __init__(self, format_='value'):\n",
    "        self.format = format_\n",
    "    \n",
    "    def exchange_rates(self):\n",
    "        self.r = requests.get('https://www.cbr-xml-daily.ru/daily_json.js')\n",
    "        return self.r.json()['Valute']\n",
    "    \n",
    "    def make_format(self, currency):\n",
    "        response = self.exchange_rates()\n",
    "        \n",
    "        if currency in response:\n",
    "            if self.format == 'full':\n",
    "                return response[currency]\n",
    "            \n",
    "            if self.format == 'value':\n",
    "                return response[currency]['Value']\n",
    "        \n",
    "        return 'Error'\n",
    "    \n",
    "    def best_value(self):\n",
    "        all_values = self.exchange_rates()\n",
    "        \n",
    "        for biggest_rate in all_values:\n",
    "            if self.format == max('Value'):\n",
    "                print(biggest_rate)\n",
    "            else:\n",
    "                print('Не знаю как найти максимальное значение, обратитесь к иснтруктору')\n",
    "        \n",
    "    \n",
    "    def eur(self):\n",
    "        return self.make_format('EUR')\n",
    "    def usd(self):\n",
    "        return self.make_format('USD')\n",
    "    def brl(self):\n",
    "        return self.make_format('BRL')"
   ]
  },
  {
   "cell_type": "code",
   "execution_count": 58,
   "metadata": {},
   "outputs": [],
   "source": [
    "r = Rate(format_='value')"
   ]
  },
  {
   "cell_type": "code",
   "execution_count": 59,
   "metadata": {
    "scrolled": true
   },
   "outputs": [
    {
     "data": {
      "text/plain": [
       "88.1397"
      ]
     },
     "execution_count": 59,
     "metadata": {},
     "output_type": "execute_result"
    }
   ],
   "source": [
    "r.eur()\n"
   ]
  },
  {
   "cell_type": "code",
   "execution_count": 60,
   "metadata": {},
   "outputs": [
    {
     "name": "stdout",
     "output_type": "stream",
     "text": [
      "Не знаю как найти максимальное значение, обратитесь к иснтруктору\n",
      "Не знаю как найти максимальное значение, обратитесь к иснтруктору\n",
      "Не знаю как найти максимальное значение, обратитесь к иснтруктору\n",
      "Не знаю как найти максимальное значение, обратитесь к иснтруктору\n",
      "Не знаю как найти максимальное значение, обратитесь к иснтруктору\n",
      "Не знаю как найти максимальное значение, обратитесь к иснтруктору\n",
      "Не знаю как найти максимальное значение, обратитесь к иснтруктору\n",
      "Не знаю как найти максимальное значение, обратитесь к иснтруктору\n",
      "Не знаю как найти максимальное значение, обратитесь к иснтруктору\n",
      "Не знаю как найти максимальное значение, обратитесь к иснтруктору\n",
      "Не знаю как найти максимальное значение, обратитесь к иснтруктору\n",
      "Не знаю как найти максимальное значение, обратитесь к иснтруктору\n",
      "Не знаю как найти максимальное значение, обратитесь к иснтруктору\n",
      "Не знаю как найти максимальное значение, обратитесь к иснтруктору\n",
      "Не знаю как найти максимальное значение, обратитесь к иснтруктору\n",
      "Не знаю как найти максимальное значение, обратитесь к иснтруктору\n",
      "Не знаю как найти максимальное значение, обратитесь к иснтруктору\n",
      "Не знаю как найти максимальное значение, обратитесь к иснтруктору\n",
      "Не знаю как найти максимальное значение, обратитесь к иснтруктору\n",
      "Не знаю как найти максимальное значение, обратитесь к иснтруктору\n",
      "Не знаю как найти максимальное значение, обратитесь к иснтруктору\n",
      "Не знаю как найти максимальное значение, обратитесь к иснтруктору\n",
      "Не знаю как найти максимальное значение, обратитесь к иснтруктору\n",
      "Не знаю как найти максимальное значение, обратитесь к иснтруктору\n",
      "Не знаю как найти максимальное значение, обратитесь к иснтруктору\n",
      "Не знаю как найти максимальное значение, обратитесь к иснтруктору\n",
      "Не знаю как найти максимальное значение, обратитесь к иснтруктору\n",
      "Не знаю как найти максимальное значение, обратитесь к иснтруктору\n",
      "Не знаю как найти максимальное значение, обратитесь к иснтруктору\n",
      "Не знаю как найти максимальное значение, обратитесь к иснтруктору\n",
      "Не знаю как найти максимальное значение, обратитесь к иснтруктору\n",
      "Не знаю как найти максимальное значение, обратитесь к иснтруктору\n",
      "Не знаю как найти максимальное значение, обратитесь к иснтруктору\n",
      "Не знаю как найти максимальное значение, обратитесь к иснтруктору\n"
     ]
    }
   ],
   "source": [
    "r.best_value()"
   ]
  },
  {
   "cell_type": "code",
   "execution_count": 64,
   "metadata": {
    "scrolled": true
   },
   "outputs": [
    {
     "ename": "TypeError",
     "evalue": "unhashable type: 'list'",
     "output_type": "error",
     "traceback": [
      "\u001b[1;31m---------------------------------------------------------------------------\u001b[0m",
      "\u001b[1;31mTypeError\u001b[0m                                 Traceback (most recent call last)",
      "\u001b[1;32m<ipython-input-64-4ffa290cb606>\u001b[0m in \u001b[0;36m<module>\u001b[1;34m\u001b[0m\n\u001b[1;32m----> 1\u001b[1;33m \u001b[1;32mfor\u001b[0m \u001b[0mmy_value\u001b[0m \u001b[1;32min\u001b[0m \u001b[0mr\u001b[0m\u001b[1;33m.\u001b[0m\u001b[0mmake_format\u001b[0m\u001b[1;33m(\u001b[0m\u001b[1;33m[\u001b[0m\u001b[1;34m'Value'\u001b[0m\u001b[1;33m]\u001b[0m\u001b[1;33m)\u001b[0m\u001b[1;33m:\u001b[0m\u001b[1;33m\u001b[0m\u001b[1;33m\u001b[0m\u001b[0m\n\u001b[0m\u001b[0;32m      2\u001b[0m     \u001b[0mthat_value\u001b[0m \u001b[1;33m=\u001b[0m \u001b[0mmax\u001b[0m\u001b[1;33m(\u001b[0m\u001b[0mmy_value\u001b[0m\u001b[1;33m)\u001b[0m\u001b[1;33m\u001b[0m\u001b[1;33m\u001b[0m\u001b[0m\n\u001b[0;32m      3\u001b[0m \u001b[0mprint\u001b[0m\u001b[1;33m(\u001b[0m\u001b[0mthat_value\u001b[0m\u001b[1;33m)\u001b[0m\u001b[1;33m\u001b[0m\u001b[1;33m\u001b[0m\u001b[0m\n",
      "\u001b[1;32m<ipython-input-57-5a4b5d019158>\u001b[0m in \u001b[0;36mmake_format\u001b[1;34m(self, currency)\u001b[0m\n\u001b[0;32m     10\u001b[0m         \u001b[0mresponse\u001b[0m \u001b[1;33m=\u001b[0m \u001b[0mself\u001b[0m\u001b[1;33m.\u001b[0m\u001b[0mexchange_rates\u001b[0m\u001b[1;33m(\u001b[0m\u001b[1;33m)\u001b[0m\u001b[1;33m\u001b[0m\u001b[1;33m\u001b[0m\u001b[0m\n\u001b[0;32m     11\u001b[0m \u001b[1;33m\u001b[0m\u001b[0m\n\u001b[1;32m---> 12\u001b[1;33m         \u001b[1;32mif\u001b[0m \u001b[0mcurrency\u001b[0m \u001b[1;32min\u001b[0m \u001b[0mresponse\u001b[0m\u001b[1;33m:\u001b[0m\u001b[1;33m\u001b[0m\u001b[1;33m\u001b[0m\u001b[0m\n\u001b[0m\u001b[0;32m     13\u001b[0m             \u001b[1;32mif\u001b[0m \u001b[0mself\u001b[0m\u001b[1;33m.\u001b[0m\u001b[0mformat\u001b[0m \u001b[1;33m==\u001b[0m \u001b[1;34m'full'\u001b[0m\u001b[1;33m:\u001b[0m\u001b[1;33m\u001b[0m\u001b[1;33m\u001b[0m\u001b[0m\n\u001b[0;32m     14\u001b[0m                 \u001b[1;32mreturn\u001b[0m \u001b[0mresponse\u001b[0m\u001b[1;33m[\u001b[0m\u001b[0mcurrency\u001b[0m\u001b[1;33m]\u001b[0m\u001b[1;33m\u001b[0m\u001b[1;33m\u001b[0m\u001b[0m\n",
      "\u001b[1;31mTypeError\u001b[0m: unhashable type: 'list'"
     ]
    }
   ],
   "source": [
    "for my_value in r.make_format(['Value']):\n",
    "    that_value = max(my_value)\n",
    "print(that_value)"
   ]
  },
  {
   "cell_type": "code",
   "execution_count": 1,
   "metadata": {},
   "outputs": [
    {
     "name": "stdout",
     "output_type": "stream",
     "text": [
      "('СДР (специальные права заимствования)', 106.0179)\n"
     ]
    }
   ],
   "source": [
    "from operator import itemgetter\n",
    "import requests\n",
    "\n",
    "\n",
    "class Rate:\n",
    "    def __init__(self, format_='value'):\n",
    "        self.format = format_\n",
    "\n",
    "    def exchange_rates(self):\n",
    "        self.r = requests.get('https://www.cbr-xml-daily.ru/daily_json.js')\n",
    "        return self.r.json()['Valute']\n",
    "\n",
    "    def max_rate(self):\n",
    "        getter = itemgetter('Name', 'Value')\n",
    "        rates = [getter(info) for info in self.exchange_rates().values()]\n",
    "        return max(rates, key=itemgetter(1))  # Return Name, Value with max Value.\n",
    "\n",
    "\n",
    "r = Rate()\n",
    "print(r.max_rate())"
   ]
  },
  {
   "cell_type": "markdown",
   "metadata": {},
   "source": [
    "## Комментарий к заданию:\n",
    "Я трачу уйму своего времени на догадки, пытаясь выполнить домашнее задание, и это очень не эффективно, напоминает старую советскую школу. Жалею что выбрал Нетологию, надо было проверить больше вариантов, возможно записаться на американский/англоязычный онлайн курс. \n",
    " Сложно добиться реального фидбека с реальной помощью.\n",
    "  Вот что я понял из темы 'Class':\n",
    "  - self - глобальная переменная, связывающая методы внутри класса\n",
    "  - метод __init__ обьявляется вначале, для того, чтобы обьвить какие-то переменные (чтобы затем использовать данные переменные внутри других методов) - пожалуйста, поправьте, если это не корректно\n",
    "  - вышеуказанным методом exchange_rates (внутри класса Rate()) мы открываем словарь с курсами валют\n",
    "  - методом make_format мы можем проверить курс валюты по нашему желанию\n",
    "  \n",
    "  Для выполнения домашки:\n",
    "  - я завел метод best_value, внутри которого пытаюсь найти max('Value'). Очевидно, что метод не работает. Это один из способов, которых я на самом деле перебрал штук 10. \n",
    "    Метод не работает. Хуже всего, я не понимаю в чем ошибка и почему он не работает! Вы показали один раз, а дальше- делай сам как хочешь. Сидеть и гуглить по 5 часов ради ответа на каждый вопрос- это плохая методика преподавания. Мы все взрослые люди с разными бэкграундами, у кого-то ИТ бэкграунд, может схватывать на лету материал, а кому-то необходимо больше обьяснять (в описании курса указано Data Science с нуля). Я никогда в жизни ни чего не кодировал, поэтому понимание логики python-кода приходит, но не сразу. \n",
    "     Хотелось бы большей помощи от Вас и путеводительства.\n",
    "     Спасибо.\n",
    "  "
   ]
  },
  {
   "cell_type": "markdown",
   "metadata": {},
   "source": [
    "### Задание 2\n",
    "Добавьте в класс Rate параметр diff (со значениями True или False), который в случае значения True в методах курсов валют (eur, usd итд) будет возвращать не курс валюты, а изменение по сравнению в прошлым значением. Считайте, self.diff будет принимать значение True только при возврате значения курса. При отображении всей информации о валюте он не используется."
   ]
  },
  {
   "cell_type": "code",
   "execution_count": 72,
   "metadata": {},
   "outputs": [],
   "source": [
    "class Rate:\n",
    "    def __init__(self, format_='value'):\n",
    "        self.format = format_\n",
    "    \n",
    "    def exchange_rates(self):\n",
    "        self.r = requests.get('https://www.cbr-xml-daily.ru/daily_json.js')\n",
    "        return self.r.json()['Valute']\n",
    "    \n",
    "    def make_format(self, currency):\n",
    "        response = self.exchange_rates()\n",
    "        \n",
    "        if currency in response:\n",
    "            if self.format == 'full':\n",
    "                return response[currency]\n",
    "            \n",
    "            if self.format == 'value':\n",
    "                return response[currency]['Value']\n",
    "        \n",
    "        return 'Error'\n",
    "    \n",
    "    def diff(self):\n",
    "        compare = self.exchange_rates()\n",
    "        \n",
    "        for currencies in compare:\n",
    "            if 'Previous' != 'Value' in currencies:\n",
    "                changed = int('Previous') - int('Value')\n",
    "                print(changed)\n",
    "                return True\n",
    "        "
   ]
  },
  {
   "cell_type": "code",
   "execution_count": 73,
   "metadata": {},
   "outputs": [],
   "source": [
    "check_diff = Rate(format_='value')\n",
    "check_diff.diff()"
   ]
  },
  {
   "cell_type": "markdown",
   "metadata": {},
   "source": [
    "##  Комментарий к заданию\n",
    "Сделал задание, вижу что неправильно. В чем именно не правильно- не понимаю. Пожалуйста, укажите на мою ошибку.\n",
    " Спасибо"
   ]
  },
  {
   "cell_type": "markdown",
   "metadata": {},
   "source": [
    "### Задание 3\n",
    "Напишите класс Designer, который учитывает количество международных премий. Подсказки в коде занятия в разделе “Домашнее задание задача 3”.\n",
    "\n",
    "Комментарий по классу Designer такой:\n",
    "Напишите класс Designer, который учитывает количество международных премий для дизайнеров (из презентации: “Повышение на 1 грейд за каждые 7 баллов. Получение международной премии – это +2 балла”). Считайте, что при выходе на работу сотрудник уже имеет две премии и их количество не меняется со стажем (конечно если хотите это можно вручную менять).\n",
    "\n",
    "Класс Designer пишется по аналогии с классом Developer из материалов занятия."
   ]
  },
  {
   "cell_type": "code",
   "execution_count": 75,
   "metadata": {},
   "outputs": [],
   "source": [
    "class Employee:\n",
    "    def __init__(self, name, seniority):\n",
    "        self.name = name\n",
    "        self.seniority = seniority\n",
    "        \n",
    "        self.grade = 1\n",
    "    \n",
    "    def grade_up(self):\n",
    "        \"\"\"Повышает уровень сотрудника\"\"\"\n",
    "        self.grade += 1\n",
    "    \n",
    "    def publish_grade(self):\n",
    "        \"\"\"Публикация результатов аккредитации сотрудников\"\"\"\n",
    "        print(self.name, self.grade)\n",
    "    \n",
    "    def check_if_it_is_time_for_upgrade(self):\n",
    "        pass\n",
    "    \n",
    "class Developer(Employee):\n",
    "    def __init__(self, name, seniority):\n",
    "        super().__init__(name, seniority)\n",
    "    \n",
    "    def check_if_it_is_time_for_upgrade(self):\n",
    "        # для каждой аккредитации увеличиваем счетчик на 1\n",
    "        # пока считаем, что все разработчики проходят аккредитацию\n",
    "        self.seniority += 1\n",
    "        \n",
    "        # условие повышения сотрудника из презентации\n",
    "        if self.seniority % 5 == 0:\n",
    "            self.grade_up()\n",
    "        \n",
    "        # публикация результатов\n",
    "        return self.publish_grade()"
   ]
  },
  {
   "cell_type": "code",
   "execution_count": 76,
   "metadata": {},
   "outputs": [],
   "source": [
    "class Designer(Employee):\n",
    "    def __init__(self, name, seniority):\n",
    "        super().__init__(name, seniority)\n",
    "    \n",
    "    def check_if_it_is_time_for_upgrade(self):\n",
    "        self.seniority += 1\n",
    "        itl_award = 2\n",
    "        \n",
    "        if itl_award:\n",
    "            self.seniority += 2\n",
    "            if self.seniority % 7 == 0:\n",
    "                self.grade_up()\n",
    "            elif self.seniority % 7 == 0:\n",
    "                self.grade_up()\n",
    "        \n",
    "        return self.publish_grade()\n",
    "    "
   ]
  },
  {
   "cell_type": "code",
   "execution_count": 79,
   "metadata": {},
   "outputs": [],
   "source": [
    "george = Designer('Джордж', 0) "
   ]
  },
  {
   "cell_type": "code",
   "execution_count": 80,
   "metadata": {},
   "outputs": [
    {
     "name": "stdout",
     "output_type": "stream",
     "text": [
      "Джордж 1\n",
      "Джордж 1\n",
      "Джордж 1\n",
      "Джордж 1\n",
      "Джордж 1\n",
      "Джордж 1\n",
      "Джордж 2\n",
      "Джордж 2\n",
      "Джордж 2\n",
      "Джордж 2\n",
      "Джордж 2\n",
      "Джордж 2\n",
      "Джордж 2\n",
      "Джордж 3\n",
      "Джордж 3\n"
     ]
    }
   ],
   "source": [
    "for i in range(15):\n",
    "    george.check_if_it_is_time_for_upgrade()"
   ]
  }
 ],
 "metadata": {
  "kernelspec": {
   "display_name": "Python 3",
   "language": "python",
   "name": "python3"
  },
  "language_info": {
   "codemirror_mode": {
    "name": "ipython",
    "version": 3
   },
   "file_extension": ".py",
   "mimetype": "text/x-python",
   "name": "python",
   "nbconvert_exporter": "python",
   "pygments_lexer": "ipython3",
   "version": "3.8.5"
  }
 },
 "nbformat": 4,
 "nbformat_minor": 4
}
