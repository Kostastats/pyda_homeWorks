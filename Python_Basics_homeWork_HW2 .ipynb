{
 "cells": [
  {
   "cell_type": "markdown",
   "metadata": {},
   "source": [
    "# задание 1"
   ]
  },
  {
   "cell_type": "code",
   "execution_count": 47,
   "metadata": {},
   "outputs": [
    {
     "name": "stdout",
     "output_type": "stream",
     "text": [
      "фраза 2 длиннее чем 1\n"
     ]
    }
   ],
   "source": [
    "phrase_1 = 'Три танкиста три веселых друга'\n",
    "phrase_2 = 'экипаж машины боевой'\n",
    "if phrase_1 > phrase_2:\n",
    "    print('фраза 1 длиннее фразы 2')\n",
    "elif phrase_1 == phrase_2:\n",
    "    print('фразы равны')\n",
    "else:\n",
    "    print('фраза 2 длиннее чем 1')"
   ]
  },
  {
   "cell_type": "markdown",
   "metadata": {},
   "source": [
    "# задание 2"
   ]
  },
  {
   "cell_type": "code",
   "execution_count": 2,
   "metadata": {
    "scrolled": true
   },
   "outputs": [
    {
     "name": "stdout",
     "output_type": "stream",
     "text": [
      "невисокосный год\n"
     ]
    }
   ],
   "source": [
    "x = 2011\n",
    "if x % 4 == 0:\n",
    "    print('високосный год')\n",
    "else:\n",
    "    print('невисокосный год')"
   ]
  },
  {
   "cell_type": "markdown",
   "metadata": {},
   "source": [
    "# задание 3 Знаки зодиака"
   ]
  },
  {
   "cell_type": "code",
   "execution_count": 2,
   "metadata": {},
   "outputs": [
    {
     "name": "stdout",
     "output_type": "stream",
     "text": [
      "Введите месяц.день рождения: 03.12\n",
      "знак зодиака: \n"
     ]
    },
    {
     "ename": "TypeError",
     "evalue": "'>=' not supported between instances of 'str' and 'float'",
     "output_type": "error",
     "traceback": [
      "\u001b[1;31m---------------------------------------------------------------------------\u001b[0m",
      "\u001b[1;31mTypeError\u001b[0m                                 Traceback (most recent call last)",
      "\u001b[1;32m<ipython-input-2-1e491707dabc>\u001b[0m in \u001b[0;36m<module>\u001b[1;34m\u001b[0m\n\u001b[0;32m      1\u001b[0m \u001b[0mbirthDay\u001b[0m \u001b[1;33m=\u001b[0m \u001b[0minput\u001b[0m\u001b[1;33m(\u001b[0m\u001b[1;34m'Введите месяц.день рождения: '\u001b[0m\u001b[1;33m)\u001b[0m\u001b[1;33m\u001b[0m\u001b[1;33m\u001b[0m\u001b[0m\n\u001b[0;32m      2\u001b[0m \u001b[0mprint\u001b[0m\u001b[1;33m(\u001b[0m\u001b[1;34m'знак зодиака: '\u001b[0m\u001b[1;33m)\u001b[0m\u001b[1;33m\u001b[0m\u001b[1;33m\u001b[0m\u001b[0m\n\u001b[1;32m----> 3\u001b[1;33m \u001b[1;32mif\u001b[0m \u001b[0mbirthDay\u001b[0m \u001b[1;33m>=\u001b[0m \u001b[1;36m03.21\u001b[0m \u001b[1;32mand\u001b[0m \u001b[0mbirthDay\u001b[0m \u001b[1;33m<=\u001b[0m \u001b[1;36m04.20\u001b[0m\u001b[1;33m:\u001b[0m\u001b[1;33m\u001b[0m\u001b[1;33m\u001b[0m\u001b[0m\n\u001b[0m\u001b[0;32m      4\u001b[0m     \u001b[0mprint\u001b[0m\u001b[1;33m(\u001b[0m\u001b[1;34m'Овен'\u001b[0m\u001b[1;33m)\u001b[0m\u001b[1;33m\u001b[0m\u001b[1;33m\u001b[0m\u001b[0m\n\u001b[0;32m      5\u001b[0m \u001b[1;32melif\u001b[0m \u001b[0mbirthDay\u001b[0m \u001b[1;33m>=\u001b[0m \u001b[1;36m04.21\u001b[0m \u001b[1;32mand\u001b[0m \u001b[0mbirthDay\u001b[0m \u001b[1;33m<=\u001b[0m \u001b[1;36m05.21\u001b[0m\u001b[1;33m:\u001b[0m\u001b[1;33m\u001b[0m\u001b[1;33m\u001b[0m\u001b[0m\n",
      "\u001b[1;31mTypeError\u001b[0m: '>=' not supported between instances of 'str' and 'float'"
     ]
    }
   ],
   "source": [
    "birthDay = input('Введите месяц.день рождения: ')\n",
    "print('знак зодиака: ')\n",
    "if birthDay >= 03.21 and birthDay <= 04.20:\n",
    "    print('Овен')\n",
    "elif birthDay >= 04.21 and birthDay <= 05.21:\n",
    "    print('Телец')\n",
    "elif birthDay >= 05.22 and birthDay <= 06.21:\n",
    "    print('Близнец')\n",
    "elif birthDay >= 06.22 and birthDay <= 07.22:\n",
    "    print('Рак')\n",
    "elif birthDay >= 07.23 and birthDay <= 08.23:\n",
    "    print('Лев')\n",
    "elif birthDay >= 08.24 and birthDay <= 09.23:\n",
    "    print('Дева')\n",
    "elif birthDay >= 09.24 and birthDay <= 10.23:\n",
    "    print('Весы')\n",
    "elif birthDay >= 10.24 and birthDay <= 11.22:\n",
    "    print('Скорпион')\n",
    "elif birthDay >= 11.23 and birthDay <= 12.22:\n",
    "    print('Стрелец')\n",
    "elif birthDay >= 12.23 and birthDay <= 01.20:\n",
    "    print('Козерог')\n",
    "elif birthDay >= 01.21 and birthDay <= 02.19:\n",
    "    print('Водолей')\n",
    "elif birthDay >= 02.20 and birthDay <= 03.20:\n",
    "    print('Рыбы')"
   ]
  },
  {
   "cell_type": "markdown",
   "metadata": {},
   "source": [
    "# задание 4 размеры коробок"
   ]
  },
  {
   "cell_type": "code",
   "execution_count": 54,
   "metadata": {},
   "outputs": [
    {
     "name": "stdout",
     "output_type": "stream",
     "text": [
      "упаковка для лыж\n"
     ]
    }
   ],
   "source": [
    "width = 10\n",
    "length = 205\n",
    "height = 5\n",
    "if width <= 15 and length <= 15 and height <= 15:\n",
    "    print('коробка № 1')\n",
    "elif width >= 15 and width <= 50 and length >= 15 and length <= 50 and height >= 15 and height <= 50:\n",
    "    print('коробка № 2')\n",
    "elif length > 200:\n",
    "    print('упаковка для лыж')\n",
    "else:\n",
    "    print('стандартная коробка №3')"
   ]
  },
  {
   "cell_type": "code",
   "execution_count": null,
   "metadata": {},
   "outputs": [],
   "source": []
  }
 ],
 "metadata": {
  "kernelspec": {
   "display_name": "Python 3",
   "language": "python",
   "name": "python3"
  },
  "language_info": {
   "codemirror_mode": {
    "name": "ipython",
    "version": 3
   },
   "file_extension": ".py",
   "mimetype": "text/x-python",
   "name": "python",
   "nbconvert_exporter": "python",
   "pygments_lexer": "ipython3",
   "version": "3.8.5"
  }
 },
 "nbformat": 4,
 "nbformat_minor": 4
}
