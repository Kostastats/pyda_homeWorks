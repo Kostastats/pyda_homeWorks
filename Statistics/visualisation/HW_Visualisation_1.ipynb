{
 "cells": [
  {
   "cell_type": "markdown",
   "metadata": {},
   "source": [
    "### Задание \n",
    "\n",
    "Вам необходимо провести базовый EDA выбранного набора данных.\n",
    "\n",
    "Требования к анализу:\n",
    "\n",
    "    построить не менее 4 визуализаций различных видов;\n",
    "    каждая визуализация должным образом оформлена и читается даже в отрыве от контекста;\n",
    "    по каждой визуализации необходимо написать вывод (какую гипотезу на ее основе можно выдвинуть?).\n"
   ]
  },
  {
   "cell_type": "code",
   "execution_count": 1,
   "metadata": {},
   "outputs": [],
   "source": [
    "import matplotlib.pyplot as plt\n",
    "import pandas as pd\n",
    "import numpy as np"
   ]
  },
  {
   "cell_type": "code",
   "execution_count": 2,
   "metadata": {
    "scrolled": true
   },
   "outputs": [],
   "source": [
    "beer = pd.read_csv('beer_Norway.csv', skiprows=0)"
   ]
  },
  {
   "cell_type": "code",
   "execution_count": 3,
   "metadata": {
    "scrolled": true
   },
   "outputs": [
    {
     "data": {
      "text/html": [
       "<div>\n",
       "<style scoped>\n",
       "    .dataframe tbody tr th:only-of-type {\n",
       "        vertical-align: middle;\n",
       "    }\n",
       "\n",
       "    .dataframe tbody tr th {\n",
       "        vertical-align: top;\n",
       "    }\n",
       "\n",
       "    .dataframe thead th {\n",
       "        text-align: right;\n",
       "    }\n",
       "</style>\n",
       "<table border=\"1\" class=\"dataframe\">\n",
       "  <thead>\n",
       "    <tr style=\"text-align: right;\">\n",
       "      <th></th>\n",
       "      <th>Alkoholomsetning i 1 000 liter</th>\n",
       "      <th>1st kvartal 2020</th>\n",
       "      <th>1st kvartal 2021</th>\n",
       "      <th>Endring i prosent</th>\n",
       "      <th>1st kvartal 2020.1</th>\n",
       "      <th>1st kvartal 2021.1</th>\n",
       "      <th>Endring i prosent.1</th>\n",
       "      <th>2019</th>\n",
       "      <th>2020</th>\n",
       "      <th>Endring i prosent.2</th>\n",
       "    </tr>\n",
       "  </thead>\n",
       "  <tbody>\n",
       "    <tr>\n",
       "      <th>0</th>\n",
       "      <td>Alkohol totalt</td>\n",
       "      <td>5972</td>\n",
       "      <td>7216</td>\n",
       "      <td>20.8</td>\n",
       "      <td>1.35</td>\n",
       "      <td>1.61</td>\n",
       "      <td>19.3</td>\n",
       "      <td>6.05</td>\n",
       "      <td>7.23</td>\n",
       "      <td>19.5</td>\n",
       "    </tr>\n",
       "    <tr>\n",
       "      <th>1</th>\n",
       "      <td>Brennevin</td>\n",
       "      <td>988</td>\n",
       "      <td>1147</td>\n",
       "      <td>16.1</td>\n",
       "      <td>0.22</td>\n",
       "      <td>0.26</td>\n",
       "      <td>18.2</td>\n",
       "      <td>1.00</td>\n",
       "      <td>1.23</td>\n",
       "      <td>23.0</td>\n",
       "    </tr>\n",
       "    <tr>\n",
       "      <th>2</th>\n",
       "      <td>Vin</td>\n",
       "      <td>2370</td>\n",
       "      <td>2955</td>\n",
       "      <td>24.7</td>\n",
       "      <td>0.53</td>\n",
       "      <td>0.66</td>\n",
       "      <td>24.5</td>\n",
       "      <td>2.23</td>\n",
       "      <td>2.94</td>\n",
       "      <td>31.8</td>\n",
       "    </tr>\n",
       "    <tr>\n",
       "      <th>3</th>\n",
       "      <td>Øl</td>\n",
       "      <td>2446</td>\n",
       "      <td>2880</td>\n",
       "      <td>17.7</td>\n",
       "      <td>0.55</td>\n",
       "      <td>0.64</td>\n",
       "      <td>16.4</td>\n",
       "      <td>2.63</td>\n",
       "      <td>2.83</td>\n",
       "      <td>7.6</td>\n",
       "    </tr>\n",
       "    <tr>\n",
       "      <th>4</th>\n",
       "      <td>Rusbrus</td>\n",
       "      <td>167</td>\n",
       "      <td>235</td>\n",
       "      <td>40.7</td>\n",
       "      <td>0.04</td>\n",
       "      <td>0.05</td>\n",
       "      <td>25.0</td>\n",
       "      <td>0.19</td>\n",
       "      <td>0.23</td>\n",
       "      <td>21.1</td>\n",
       "    </tr>\n",
       "  </tbody>\n",
       "</table>\n",
       "</div>"
      ],
      "text/plain": [
       "  Alkoholomsetning i 1 000 liter   1st kvartal 2020   1st kvartal 2021  \\\n",
       "0                 Alkohol totalt               5972               7216   \n",
       "1                      Brennevin                988               1147   \n",
       "2                            Vin               2370               2955   \n",
       "3                             Øl               2446               2880   \n",
       "4                        Rusbrus                167                235   \n",
       "\n",
       "    Endring i prosent   1st kvartal 2020.1   1st kvartal 2021.1  \\\n",
       "0                20.8                 1.35                 1.61   \n",
       "1                16.1                 0.22                 0.26   \n",
       "2                24.7                 0.53                 0.66   \n",
       "3                17.7                 0.55                 0.64   \n",
       "4                40.7                 0.04                 0.05   \n",
       "\n",
       "    Endring i prosent.1   2019   2020   Endring i prosent.2  \n",
       "0                  19.3   6.05   7.23                  19.5  \n",
       "1                  18.2   1.00   1.23                  23.0  \n",
       "2                  24.5   2.23   2.94                  31.8  \n",
       "3                  16.4   2.63   2.83                   7.6  \n",
       "4                  25.0   0.19   0.23                  21.1  "
      ]
     },
     "execution_count": 3,
     "metadata": {},
     "output_type": "execute_result"
    }
   ],
   "source": [
    "beer.head()"
   ]
  },
  {
   "cell_type": "code",
   "execution_count": 4,
   "metadata": {
    "scrolled": true
   },
   "outputs": [
    {
     "name": "stdout",
     "output_type": "stream",
     "text": [
      "<class 'pandas.core.frame.DataFrame'>\n",
      "RangeIndex: 5 entries, 0 to 4\n",
      "Data columns (total 10 columns):\n",
      " #   Column                          Non-Null Count  Dtype  \n",
      "---  ------                          --------------  -----  \n",
      " 0   Alkoholomsetning i 1 000 liter  5 non-null      object \n",
      " 1    1st kvartal 2020               5 non-null      int64  \n",
      " 2    1st kvartal 2021               5 non-null      int64  \n",
      " 3    Endring i prosent              5 non-null      float64\n",
      " 4    1st kvartal 2020.1             5 non-null      float64\n",
      " 5    1st kvartal 2021.1             5 non-null      float64\n",
      " 6    Endring i prosent.1            5 non-null      float64\n",
      " 7    2019                           5 non-null      float64\n",
      " 8    2020                           5 non-null      float64\n",
      " 9    Endring i prosent.2            5 non-null      float64\n",
      "dtypes: float64(7), int64(2), object(1)\n",
      "memory usage: 528.0+ bytes\n"
     ]
    }
   ],
   "source": [
    "beer.info()"
   ]
  },
  {
   "cell_type": "code",
   "execution_count": 5,
   "metadata": {},
   "outputs": [],
   "source": [
    "beer = pd.DataFrame(beer)"
   ]
  },
  {
   "cell_type": "code",
   "execution_count": 6,
   "metadata": {
    "scrolled": true
   },
   "outputs": [
    {
     "data": {
      "text/html": [
       "<div>\n",
       "<style scoped>\n",
       "    .dataframe tbody tr th:only-of-type {\n",
       "        vertical-align: middle;\n",
       "    }\n",
       "\n",
       "    .dataframe tbody tr th {\n",
       "        vertical-align: top;\n",
       "    }\n",
       "\n",
       "    .dataframe thead th {\n",
       "        text-align: right;\n",
       "    }\n",
       "</style>\n",
       "<table border=\"1\" class=\"dataframe\">\n",
       "  <thead>\n",
       "    <tr style=\"text-align: right;\">\n",
       "      <th></th>\n",
       "      <th>Alkoholomsetning i 1 000 liter</th>\n",
       "      <th>1st kvartal 2020</th>\n",
       "      <th>1st kvartal 2021</th>\n",
       "      <th>Endring i prosent</th>\n",
       "      <th>1st kvartal 2020.1</th>\n",
       "      <th>1st kvartal 2021.1</th>\n",
       "      <th>Endring i prosent.1</th>\n",
       "      <th>2019</th>\n",
       "      <th>2020</th>\n",
       "      <th>Endring i prosent.2</th>\n",
       "    </tr>\n",
       "  </thead>\n",
       "  <tbody>\n",
       "    <tr>\n",
       "      <th>0</th>\n",
       "      <td>Alkohol totalt</td>\n",
       "      <td>5972</td>\n",
       "      <td>7216</td>\n",
       "      <td>20.8</td>\n",
       "      <td>1.35</td>\n",
       "      <td>1.61</td>\n",
       "      <td>19.3</td>\n",
       "      <td>6.05</td>\n",
       "      <td>7.23</td>\n",
       "      <td>19.5</td>\n",
       "    </tr>\n",
       "    <tr>\n",
       "      <th>1</th>\n",
       "      <td>Brennevin</td>\n",
       "      <td>988</td>\n",
       "      <td>1147</td>\n",
       "      <td>16.1</td>\n",
       "      <td>0.22</td>\n",
       "      <td>0.26</td>\n",
       "      <td>18.2</td>\n",
       "      <td>1.00</td>\n",
       "      <td>1.23</td>\n",
       "      <td>23.0</td>\n",
       "    </tr>\n",
       "    <tr>\n",
       "      <th>2</th>\n",
       "      <td>Vin</td>\n",
       "      <td>2370</td>\n",
       "      <td>2955</td>\n",
       "      <td>24.7</td>\n",
       "      <td>0.53</td>\n",
       "      <td>0.66</td>\n",
       "      <td>24.5</td>\n",
       "      <td>2.23</td>\n",
       "      <td>2.94</td>\n",
       "      <td>31.8</td>\n",
       "    </tr>\n",
       "    <tr>\n",
       "      <th>3</th>\n",
       "      <td>Øl</td>\n",
       "      <td>2446</td>\n",
       "      <td>2880</td>\n",
       "      <td>17.7</td>\n",
       "      <td>0.55</td>\n",
       "      <td>0.64</td>\n",
       "      <td>16.4</td>\n",
       "      <td>2.63</td>\n",
       "      <td>2.83</td>\n",
       "      <td>7.6</td>\n",
       "    </tr>\n",
       "    <tr>\n",
       "      <th>4</th>\n",
       "      <td>Rusbrus</td>\n",
       "      <td>167</td>\n",
       "      <td>235</td>\n",
       "      <td>40.7</td>\n",
       "      <td>0.04</td>\n",
       "      <td>0.05</td>\n",
       "      <td>25.0</td>\n",
       "      <td>0.19</td>\n",
       "      <td>0.23</td>\n",
       "      <td>21.1</td>\n",
       "    </tr>\n",
       "  </tbody>\n",
       "</table>\n",
       "</div>"
      ],
      "text/plain": [
       "  Alkoholomsetning i 1 000 liter   1st kvartal 2020   1st kvartal 2021  \\\n",
       "0                 Alkohol totalt               5972               7216   \n",
       "1                      Brennevin                988               1147   \n",
       "2                            Vin               2370               2955   \n",
       "3                             Øl               2446               2880   \n",
       "4                        Rusbrus                167                235   \n",
       "\n",
       "    Endring i prosent   1st kvartal 2020.1   1st kvartal 2021.1  \\\n",
       "0                20.8                 1.35                 1.61   \n",
       "1                16.1                 0.22                 0.26   \n",
       "2                24.7                 0.53                 0.66   \n",
       "3                17.7                 0.55                 0.64   \n",
       "4                40.7                 0.04                 0.05   \n",
       "\n",
       "    Endring i prosent.1   2019   2020   Endring i prosent.2  \n",
       "0                  19.3   6.05   7.23                  19.5  \n",
       "1                  18.2   1.00   1.23                  23.0  \n",
       "2                  24.5   2.23   2.94                  31.8  \n",
       "3                  16.4   2.63   2.83                   7.6  \n",
       "4                  25.0   0.19   0.23                  21.1  "
      ]
     },
     "execution_count": 6,
     "metadata": {},
     "output_type": "execute_result"
    }
   ],
   "source": [
    "beer.head()"
   ]
  },
  {
   "cell_type": "code",
   "execution_count": 7,
   "metadata": {},
   "outputs": [
    {
     "data": {
      "text/html": [
       "<div>\n",
       "<style scoped>\n",
       "    .dataframe tbody tr th:only-of-type {\n",
       "        vertical-align: middle;\n",
       "    }\n",
       "\n",
       "    .dataframe tbody tr th {\n",
       "        vertical-align: top;\n",
       "    }\n",
       "\n",
       "    .dataframe thead th {\n",
       "        text-align: right;\n",
       "    }\n",
       "</style>\n",
       "<table border=\"1\" class=\"dataframe\">\n",
       "  <thead>\n",
       "    <tr style=\"text-align: right;\">\n",
       "      <th></th>\n",
       "      <th>1st kvartal 2020</th>\n",
       "      <th>1st kvartal 2021</th>\n",
       "      <th>Endring i prosent</th>\n",
       "      <th>1st kvartal 2020.1</th>\n",
       "      <th>1st kvartal 2021.1</th>\n",
       "      <th>Endring i prosent.1</th>\n",
       "      <th>2019</th>\n",
       "      <th>2020</th>\n",
       "      <th>Endring i prosent.2</th>\n",
       "    </tr>\n",
       "    <tr>\n",
       "      <th>Alkoholomsetning i 1 000 liter</th>\n",
       "      <th></th>\n",
       "      <th></th>\n",
       "      <th></th>\n",
       "      <th></th>\n",
       "      <th></th>\n",
       "      <th></th>\n",
       "      <th></th>\n",
       "      <th></th>\n",
       "      <th></th>\n",
       "    </tr>\n",
       "  </thead>\n",
       "  <tbody>\n",
       "    <tr>\n",
       "      <th>Alkohol totalt</th>\n",
       "      <td>5972</td>\n",
       "      <td>7216</td>\n",
       "      <td>20.8</td>\n",
       "      <td>1.35</td>\n",
       "      <td>1.61</td>\n",
       "      <td>19.3</td>\n",
       "      <td>6.05</td>\n",
       "      <td>7.23</td>\n",
       "      <td>19.5</td>\n",
       "    </tr>\n",
       "    <tr>\n",
       "      <th>Brennevin</th>\n",
       "      <td>988</td>\n",
       "      <td>1147</td>\n",
       "      <td>16.1</td>\n",
       "      <td>0.22</td>\n",
       "      <td>0.26</td>\n",
       "      <td>18.2</td>\n",
       "      <td>1.00</td>\n",
       "      <td>1.23</td>\n",
       "      <td>23.0</td>\n",
       "    </tr>\n",
       "    <tr>\n",
       "      <th>Vin</th>\n",
       "      <td>2370</td>\n",
       "      <td>2955</td>\n",
       "      <td>24.7</td>\n",
       "      <td>0.53</td>\n",
       "      <td>0.66</td>\n",
       "      <td>24.5</td>\n",
       "      <td>2.23</td>\n",
       "      <td>2.94</td>\n",
       "      <td>31.8</td>\n",
       "    </tr>\n",
       "    <tr>\n",
       "      <th>Øl</th>\n",
       "      <td>2446</td>\n",
       "      <td>2880</td>\n",
       "      <td>17.7</td>\n",
       "      <td>0.55</td>\n",
       "      <td>0.64</td>\n",
       "      <td>16.4</td>\n",
       "      <td>2.63</td>\n",
       "      <td>2.83</td>\n",
       "      <td>7.6</td>\n",
       "    </tr>\n",
       "    <tr>\n",
       "      <th>Rusbrus</th>\n",
       "      <td>167</td>\n",
       "      <td>235</td>\n",
       "      <td>40.7</td>\n",
       "      <td>0.04</td>\n",
       "      <td>0.05</td>\n",
       "      <td>25.0</td>\n",
       "      <td>0.19</td>\n",
       "      <td>0.23</td>\n",
       "      <td>21.1</td>\n",
       "    </tr>\n",
       "  </tbody>\n",
       "</table>\n",
       "</div>"
      ],
      "text/plain": [
       "                                 1st kvartal 2020   1st kvartal 2021  \\\n",
       "Alkoholomsetning i 1 000 liter                                         \n",
       "Alkohol totalt                               5972               7216   \n",
       "Brennevin                                     988               1147   \n",
       "Vin                                          2370               2955   \n",
       "Øl                                           2446               2880   \n",
       "Rusbrus                                       167                235   \n",
       "\n",
       "                                 Endring i prosent   1st kvartal 2020.1  \\\n",
       "Alkoholomsetning i 1 000 liter                                            \n",
       "Alkohol totalt                                20.8                 1.35   \n",
       "Brennevin                                     16.1                 0.22   \n",
       "Vin                                           24.7                 0.53   \n",
       "Øl                                            17.7                 0.55   \n",
       "Rusbrus                                       40.7                 0.04   \n",
       "\n",
       "                                 1st kvartal 2021.1   Endring i prosent.1  \\\n",
       "Alkoholomsetning i 1 000 liter                                              \n",
       "Alkohol totalt                                 1.61                  19.3   \n",
       "Brennevin                                      0.26                  18.2   \n",
       "Vin                                            0.66                  24.5   \n",
       "Øl                                             0.64                  16.4   \n",
       "Rusbrus                                        0.05                  25.0   \n",
       "\n",
       "                                 2019   2020   Endring i prosent.2  \n",
       "Alkoholomsetning i 1 000 liter                                      \n",
       "Alkohol totalt                   6.05   7.23                  19.5  \n",
       "Brennevin                        1.00   1.23                  23.0  \n",
       "Vin                              2.23   2.94                  31.8  \n",
       "Øl                               2.63   2.83                   7.6  \n",
       "Rusbrus                          0.19   0.23                  21.1  "
      ]
     },
     "execution_count": 7,
     "metadata": {},
     "output_type": "execute_result"
    }
   ],
   "source": [
    "beer.set_index('Alkoholomsetning i 1 000 liter')"
   ]
  },
  {
   "cell_type": "code",
   "execution_count": 8,
   "metadata": {
    "scrolled": true
   },
   "outputs": [
    {
     "name": "stdout",
     "output_type": "stream",
     "text": [
      "<class 'pandas.core.frame.DataFrame'>\n",
      "RangeIndex: 5 entries, 0 to 4\n",
      "Data columns (total 10 columns):\n",
      " #   Column                          Non-Null Count  Dtype  \n",
      "---  ------                          --------------  -----  \n",
      " 0   Alkoholomsetning i 1 000 liter  5 non-null      object \n",
      " 1    1st kvartal 2020               5 non-null      int64  \n",
      " 2    1st kvartal 2021               5 non-null      int64  \n",
      " 3    Endring i prosent              5 non-null      float64\n",
      " 4    1st kvartal 2020.1             5 non-null      float64\n",
      " 5    1st kvartal 2021.1             5 non-null      float64\n",
      " 6    Endring i prosent.1            5 non-null      float64\n",
      " 7    2019                           5 non-null      float64\n",
      " 8    2020                           5 non-null      float64\n",
      " 9    Endring i prosent.2            5 non-null      float64\n",
      "dtypes: float64(7), int64(2), object(1)\n",
      "memory usage: 528.0+ bytes\n"
     ]
    }
   ],
   "source": [
    "beer.info()"
   ]
  },
  {
   "cell_type": "code",
   "execution_count": 9,
   "metadata": {},
   "outputs": [
    {
     "data": {
      "text/html": [
       "<div>\n",
       "<style scoped>\n",
       "    .dataframe tbody tr th:only-of-type {\n",
       "        vertical-align: middle;\n",
       "    }\n",
       "\n",
       "    .dataframe tbody tr th {\n",
       "        vertical-align: top;\n",
       "    }\n",
       "\n",
       "    .dataframe thead th {\n",
       "        text-align: right;\n",
       "    }\n",
       "</style>\n",
       "<table border=\"1\" class=\"dataframe\">\n",
       "  <thead>\n",
       "    <tr style=\"text-align: right;\">\n",
       "      <th></th>\n",
       "      <th>1st kvartal 2020</th>\n",
       "      <th>1st kvartal 2021</th>\n",
       "    </tr>\n",
       "    <tr>\n",
       "      <th>Alkoholomsetning i 1 000 liter</th>\n",
       "      <th></th>\n",
       "      <th></th>\n",
       "    </tr>\n",
       "  </thead>\n",
       "  <tbody>\n",
       "    <tr>\n",
       "      <th>Alkohol totalt</th>\n",
       "      <td>5972</td>\n",
       "      <td>7216</td>\n",
       "    </tr>\n",
       "    <tr>\n",
       "      <th>Brennevin</th>\n",
       "      <td>988</td>\n",
       "      <td>1147</td>\n",
       "    </tr>\n",
       "    <tr>\n",
       "      <th>Vin</th>\n",
       "      <td>2370</td>\n",
       "      <td>2955</td>\n",
       "    </tr>\n",
       "    <tr>\n",
       "      <th>Øl</th>\n",
       "      <td>2446</td>\n",
       "      <td>2880</td>\n",
       "    </tr>\n",
       "    <tr>\n",
       "      <th>Rusbrus</th>\n",
       "      <td>167</td>\n",
       "      <td>235</td>\n",
       "    </tr>\n",
       "  </tbody>\n",
       "</table>\n",
       "</div>"
      ],
      "text/plain": [
       "                                 1st kvartal 2020   1st kvartal 2021\n",
       "Alkoholomsetning i 1 000 liter                                      \n",
       "Alkohol totalt                               5972               7216\n",
       "Brennevin                                     988               1147\n",
       "Vin                                          2370               2955\n",
       "Øl                                           2446               2880\n",
       "Rusbrus                                       167                235"
      ]
     },
     "execution_count": 9,
     "metadata": {},
     "output_type": "execute_result"
    }
   ],
   "source": [
    "beer1= beer.iloc[:, 0:3]\n",
    "beer1.set_index('Alkoholomsetning i 1 000 liter')"
   ]
  },
  {
   "cell_type": "code",
   "execution_count": 10,
   "metadata": {},
   "outputs": [
    {
     "data": {
      "text/html": [
       "<div>\n",
       "<style scoped>\n",
       "    .dataframe tbody tr th:only-of-type {\n",
       "        vertical-align: middle;\n",
       "    }\n",
       "\n",
       "    .dataframe tbody tr th {\n",
       "        vertical-align: top;\n",
       "    }\n",
       "\n",
       "    .dataframe thead th {\n",
       "        text-align: right;\n",
       "    }\n",
       "</style>\n",
       "<table border=\"1\" class=\"dataframe\">\n",
       "  <thead>\n",
       "    <tr style=\"text-align: right;\">\n",
       "      <th></th>\n",
       "      <th>0</th>\n",
       "      <th>1</th>\n",
       "      <th>2</th>\n",
       "      <th>3</th>\n",
       "      <th>4</th>\n",
       "    </tr>\n",
       "  </thead>\n",
       "  <tbody>\n",
       "    <tr>\n",
       "      <th>Alkoholomsetning i 1 000 liter</th>\n",
       "      <td>Alkohol totalt</td>\n",
       "      <td>Brennevin</td>\n",
       "      <td>Vin</td>\n",
       "      <td>Øl</td>\n",
       "      <td>Rusbrus</td>\n",
       "    </tr>\n",
       "    <tr>\n",
       "      <th>1st kvartal 2020</th>\n",
       "      <td>5972</td>\n",
       "      <td>988</td>\n",
       "      <td>2370</td>\n",
       "      <td>2446</td>\n",
       "      <td>167</td>\n",
       "    </tr>\n",
       "    <tr>\n",
       "      <th>1st kvartal 2021</th>\n",
       "      <td>7216</td>\n",
       "      <td>1147</td>\n",
       "      <td>2955</td>\n",
       "      <td>2880</td>\n",
       "      <td>235</td>\n",
       "    </tr>\n",
       "  </tbody>\n",
       "</table>\n",
       "</div>"
      ],
      "text/plain": [
       "                                             0          1     2     3        4\n",
       "Alkoholomsetning i 1 000 liter  Alkohol totalt  Brennevin   Vin    Øl  Rusbrus\n",
       " 1st kvartal 2020                         5972        988  2370  2446      167\n",
       " 1st kvartal 2021                         7216       1147  2955  2880      235"
      ]
     },
     "execution_count": 10,
     "metadata": {},
     "output_type": "execute_result"
    }
   ],
   "source": [
    "sales_alc = beer1.T\n",
    "sales_alc"
   ]
  },
  {
   "cell_type": "code",
   "execution_count": 11,
   "metadata": {},
   "outputs": [
    {
     "data": {
      "text/html": [
       "<div>\n",
       "<style scoped>\n",
       "    .dataframe tbody tr th:only-of-type {\n",
       "        vertical-align: middle;\n",
       "    }\n",
       "\n",
       "    .dataframe tbody tr th {\n",
       "        vertical-align: top;\n",
       "    }\n",
       "\n",
       "    .dataframe thead th {\n",
       "        text-align: right;\n",
       "    }\n",
       "</style>\n",
       "<table border=\"1\" class=\"dataframe\">\n",
       "  <thead>\n",
       "    <tr style=\"text-align: right;\">\n",
       "      <th>Alkoholomsetning i 1 000 liter</th>\n",
       "      <th>Alkohol totalt</th>\n",
       "      <th>Brennevin</th>\n",
       "      <th>Vin</th>\n",
       "      <th>Øl</th>\n",
       "      <th>Rusbrus</th>\n",
       "    </tr>\n",
       "  </thead>\n",
       "  <tbody>\n",
       "    <tr>\n",
       "      <th>1st kvartal 2020</th>\n",
       "      <td>5972</td>\n",
       "      <td>988</td>\n",
       "      <td>2370</td>\n",
       "      <td>2446</td>\n",
       "      <td>167</td>\n",
       "    </tr>\n",
       "    <tr>\n",
       "      <th>1st kvartal 2021</th>\n",
       "      <td>7216</td>\n",
       "      <td>1147</td>\n",
       "      <td>2955</td>\n",
       "      <td>2880</td>\n",
       "      <td>235</td>\n",
       "    </tr>\n",
       "  </tbody>\n",
       "</table>\n",
       "</div>"
      ],
      "text/plain": [
       "Alkoholomsetning i 1 000 liter Alkohol totalt Brennevin   Vin    Øl Rusbrus\n",
       " 1st kvartal 2020                        5972       988  2370  2446     167\n",
       " 1st kvartal 2021                        7216      1147  2955  2880     235"
      ]
     },
     "execution_count": 11,
     "metadata": {},
     "output_type": "execute_result"
    }
   ],
   "source": [
    "sales_alc.columns = sales_alc.iloc[0]\n",
    "sales_alc.drop(sales_alc.index[0], inplace=True)\n",
    "sales_alc"
   ]
  },
  {
   "cell_type": "code",
   "execution_count": 12,
   "metadata": {},
   "outputs": [
    {
     "name": "stdout",
     "output_type": "stream",
     "text": [
      "<class 'pandas.core.frame.DataFrame'>\n",
      "Index: 2 entries,  1st kvartal 2020 to  1st kvartal 2021\n",
      "Data columns (total 5 columns):\n",
      " #   Column          Non-Null Count  Dtype \n",
      "---  ------          --------------  ----- \n",
      " 0   Alkohol totalt  2 non-null      object\n",
      " 1   Brennevin       2 non-null      object\n",
      " 2   Vin             2 non-null      object\n",
      " 3   Øl              2 non-null      object\n",
      " 4   Rusbrus         2 non-null      object\n",
      "dtypes: object(5)\n",
      "memory usage: 96.0+ bytes\n"
     ]
    }
   ],
   "source": [
    "sales_alc.info()"
   ]
  },
  {
   "cell_type": "code",
   "execution_count": 13,
   "metadata": {},
   "outputs": [],
   "source": [
    "sales_alc.columns = ['Alkohol totalt', 'strong spirit', 'wine', 'beer', 'rusbrus' ]"
   ]
  },
  {
   "cell_type": "code",
   "execution_count": 14,
   "metadata": {},
   "outputs": [
    {
     "data": {
      "text/html": [
       "<div>\n",
       "<style scoped>\n",
       "    .dataframe tbody tr th:only-of-type {\n",
       "        vertical-align: middle;\n",
       "    }\n",
       "\n",
       "    .dataframe tbody tr th {\n",
       "        vertical-align: top;\n",
       "    }\n",
       "\n",
       "    .dataframe thead th {\n",
       "        text-align: right;\n",
       "    }\n",
       "</style>\n",
       "<table border=\"1\" class=\"dataframe\">\n",
       "  <thead>\n",
       "    <tr style=\"text-align: right;\">\n",
       "      <th></th>\n",
       "      <th>Alkohol totalt</th>\n",
       "      <th>strong spirit</th>\n",
       "      <th>wine</th>\n",
       "      <th>beer</th>\n",
       "      <th>rusbrus</th>\n",
       "    </tr>\n",
       "  </thead>\n",
       "  <tbody>\n",
       "    <tr>\n",
       "      <th>1st kvartal 2020</th>\n",
       "      <td>5972</td>\n",
       "      <td>988</td>\n",
       "      <td>2370</td>\n",
       "      <td>2446</td>\n",
       "      <td>167</td>\n",
       "    </tr>\n",
       "    <tr>\n",
       "      <th>1st kvartal 2021</th>\n",
       "      <td>7216</td>\n",
       "      <td>1147</td>\n",
       "      <td>2955</td>\n",
       "      <td>2880</td>\n",
       "      <td>235</td>\n",
       "    </tr>\n",
       "  </tbody>\n",
       "</table>\n",
       "</div>"
      ],
      "text/plain": [
       "                  Alkohol totalt strong spirit  wine  beer rusbrus\n",
       " 1st kvartal 2020           5972           988  2370  2446     167\n",
       " 1st kvartal 2021           7216          1147  2955  2880     235"
      ]
     },
     "execution_count": 14,
     "metadata": {},
     "output_type": "execute_result"
    }
   ],
   "source": [
    "sales_alc"
   ]
  },
  {
   "cell_type": "code",
   "execution_count": 15,
   "metadata": {
    "scrolled": true
   },
   "outputs": [],
   "source": [
    "sales_alc[['Alkohol totalt', 'strong spirit', 'wine', 'beer', 'rusbrus']] = sales_alc[['Alkohol totalt', 'strong spirit', 'wine', 'beer', 'rusbrus']].astype(int)"
   ]
  },
  {
   "cell_type": "code",
   "execution_count": 16,
   "metadata": {},
   "outputs": [
    {
     "data": {
      "text/plain": [
       "<AxesSubplot:>"
      ]
     },
     "execution_count": 16,
     "metadata": {},
     "output_type": "execute_result"
    },
    {
     "data": {
      "image/png": "[encoded data removed]",
      "text/plain": [
       "<Figure size 432x288 with 1 Axes>"
      ]
     },
     "metadata": {
      "needs_background": "light"
     },
     "output_type": "display_data"
    }
   ],
   "source": [
    "sales_alc.plot()"
   ]
  },
  {
   "cell_type": "code",
   "execution_count": 17,
   "metadata": {},
   "outputs": [],
   "source": [
    "from pylab import rcParams\n",
    "rcParams['figure.figsize'] = 11,5"
   ]
  },
  {
   "cell_type": "code",
   "execution_count": 46,
   "metadata": {
    "scrolled": true
   },
   "outputs": [
    {
     "data": {
      "text/plain": [
       "Text(0, 0.5, 'Продажи, тыс литр.')"
      ]
     },
     "execution_count": 46,
     "metadata": {},
     "output_type": "execute_result"
    },
    {
     "data": {
      "image/png": "[encoded data removed]",
      "text/plain": [
       "<Figure size 792x360 with 1 Axes>"
      ]
     },
     "metadata": {
      "needs_background": "light"
     },
     "output_type": "display_data"
    }
   ],
   "source": [
    "sales_alc.plot()\n",
    "plt.title('Динамика продаж алкоголя в Норвегии в период пандемии')\n",
    "plt.xlabel('Период')\n",
    "plt.ylabel('Продажи, тыс литр.')"
   ]
  },
  {
   "cell_type": "markdown",
   "metadata": {},
   "source": [
    "### Вывод\n",
    "Во время пандемии, норвежцы, в основном нация трезвенников, стали потреблять больше алкоголя.\n",
    " Наибольший рост произошел в сегментах пива и вина.При чем потребление вина опередило потребление пива. Пиво в основном пьет мужское население, а вино - женское. Видимо из-за удаленной работы у женщин стало больше возможности потреблять вино. Для подтверждения/опровержения необходимо изучить гендерные данные. \n",
    "  Продажи шампанского и кребкого алкоголя практически не изменились. Крепкий алкоголь в Норвегии потребляют в основном в составе коктелей во время вечеринок. К примеру водку, как в России, во время ужина не потребляют. "
   ]
  },
  {
   "cell_type": "code",
   "execution_count": 25,
   "metadata": {},
   "outputs": [
    {
     "data": {
      "text/plain": [
       "Text(0, 0.5, 'Продажи, тыс литр.')"
      ]
     },
     "execution_count": 25,
     "metadata": {},
     "output_type": "execute_result"
    },
    {
     "data": {
      "image/png": "[encoded data removed]",
      "text/plain": [
       "<Figure size 792x360 with 1 Axes>"
      ]
     },
     "metadata": {
      "needs_background": "light"
     },
     "output_type": "display_data"
    }
   ],
   "source": [
    "sales_alc.drop('Alkohol totalt', axis=1).plot(kind='area')\n",
    "plt.title('Динамика продаж алкоголя в Норвегии в период пандемии')\n",
    "plt.xlabel('Период')\n",
    "plt.ylabel('Продажи, тыс литр.')"
   ]
  },
  {
   "cell_type": "markdown",
   "metadata": {},
   "source": [
    "### Вывод\n",
    "здесь вывод соответствует придедущему"
   ]
  },
  {
   "cell_type": "code",
   "execution_count": 30,
   "metadata": {},
   "outputs": [
    {
     "data": {
      "text/plain": [
       "Text(0.5, 0, 'Продажи, тыс литр.')"
      ]
     },
     "execution_count": 30,
     "metadata": {},
     "output_type": "execute_result"
    },
    {
     "data": {
      "image/png": "[encoded data removed]",
      "text/plain": [
       "<Figure size 792x360 with 1 Axes>"
      ]
     },
     "metadata": {
      "needs_background": "light"
     },
     "output_type": "display_data"
    }
   ],
   "source": [
    "sales_alc.plot(kind='bar')\n",
    "plt.title('Динамика продаж алкоголя в Норвегии в период пандемии')\n",
    "plt.ylabel('Период')\n",
    "plt.xlabel('Продажи, тыс литр.')"
   ]
  },
  {
   "cell_type": "markdown",
   "metadata": {},
   "source": [
    "### Вывод\n",
    "продажи газированного алкоголя все же показали динамику роста"
   ]
  },
  {
   "cell_type": "code",
   "execution_count": 32,
   "metadata": {},
   "outputs": [
    {
     "data": {
      "text/plain": [
       "Text(0.5, 0, 'Продажи, тыс литр.')"
      ]
     },
     "execution_count": 32,
     "metadata": {},
     "output_type": "execute_result"
    },
    {
     "data": {
      "image/png": "[encoded data removed]",
      "text/plain": [
       "<Figure size 792x360 with 1 Axes>"
      ]
     },
     "metadata": {
      "needs_background": "light"
     },
     "output_type": "display_data"
    }
   ],
   "source": [
    "sales_alc.drop('Alkohol totalt',axis=1).plot(kind='bar', stacked=True)\n",
    "plt.title('Динамика продаж алкоголя в Норвегии в период пандемии')\n",
    "plt.ylabel('Период')\n",
    "plt.xlabel('Продажи, тыс литр.')"
   ]
  },
  {
   "cell_type": "code",
   "execution_count": 47,
   "metadata": {},
   "outputs": [
    {
     "data": {
      "text/plain": [
       "Text(0.5, 0, 'Продажи, тыс литр.')"
      ]
     },
     "execution_count": 47,
     "metadata": {},
     "output_type": "execute_result"
    },
    {
     "data": {
      "image/png": "[encoded data removed]",
      "text/plain": [
       "<Figure size 792x360 with 4 Axes>"
      ]
     },
     "metadata": {},
     "output_type": "display_data"
    }
   ],
   "source": [
    "sales_alc.drop('Alkohol totalt',axis=1).plot(kind='pie',subplots=True)\n",
    "plt.title('Динамика продаж алкоголя в Норвегии в период пандемии')\n",
    "#plt.ylabel('Период')\n",
    "plt.xlabel('Продажи, тыс литр.')"
   ]
  },
  {
   "cell_type": "markdown",
   "metadata": {},
   "source": [
    "### Вывод\n",
    "в процентах относительно предыдущег периода продажи шампанского показали наибольшую динамику"
   ]
  },
  {
   "cell_type": "code",
   "execution_count": 48,
   "metadata": {},
   "outputs": [],
   "source": [
    "import seaborn as sns"
   ]
  },
  {
   "cell_type": "code",
   "execution_count": 49,
   "metadata": {},
   "outputs": [
    {
     "data": {
      "text/plain": [
       "<seaborn.axisgrid.PairGrid at 0x189dffc9610>"
      ]
     },
     "execution_count": 49,
     "metadata": {},
     "output_type": "execute_result"
    },
    {
     "data": {
      "image/png": "[encoded data removed]",
      "text/plain": [
       "<Figure size 360x360 with 6 Axes>"
      ]
     },
     "metadata": {
      "needs_background": "light"
     },
     "output_type": "display_data"
    }
   ],
   "source": [
    "sns.pairplot(sales_alc[['strong spirit', 'wine']])"
   ]
  },
  {
   "cell_type": "markdown",
   "metadata": {},
   "source": [
    "здесь не понятно что показывает"
   ]
  },
  {
   "cell_type": "code",
   "execution_count": null,
   "metadata": {},
   "outputs": [],
   "source": []
  }
 ],
 "metadata": {
  "kernelspec": {
   "display_name": "Python 3",
   "language": "python",
   "name": "python3"
  },
  "language_info": {
   "codemirror_mode": {
    "name": "ipython",
    "version": 3
   },
   "file_extension": ".py",
   "mimetype": "text/x-python",
   "name": "python",
   "nbconvert_exporter": "python",
   "pygments_lexer": "ipython3",
   "version": "3.8.5"
  }
 },
 "nbformat": 4,
 "nbformat_minor": 4
}
