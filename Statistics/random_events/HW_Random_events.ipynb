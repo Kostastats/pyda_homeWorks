{
 "cells": [
  {
   "cell_type": "markdown",
   "metadata": {},
   "source": [
    "### Домашнее задание к лекции «Случайные события. Случайные величины»\n",
    "Смоделировать игру против лотерейного автомата типа “777”. Игрок платит 1 руб., после чего выпадает случайное целое число, равномерно распределенное от 0 до 999. При некоторых значениях числа игрок получает выигрыш.\n",
    "\n",
    "777: 200 руб.\n",
    "999: 100 руб.\n",
    "555: 50 руб.\n",
    "333: 15 руб.\n",
    "111: 10 руб.\n",
    "*77: 5 руб.\n",
    "**7: 3 руб.\n",
    "*00: 2 руб.\n",
    "**0: 1 руб.\n",
    "Вопросы:\n",
    "\n",
    "    Выгодна ли игра игроку?\n",
    "    Сколько в среднем приобретает или теряет игрок за одну игру?\n"
   ]
  },
  {
   "cell_type": "code",
   "execution_count": 1,
   "metadata": {},
   "outputs": [],
   "source": [
    "import numpy as np\n",
    "\n"
   ]
  },
  {
   "cell_type": "code",
   "execution_count": 16,
   "metadata": {},
   "outputs": [
    {
     "name": "stdout",
     "output_type": "stream",
     "text": [
      "выигрышь на 1 тыс попытok  395 руб. \n",
      " Сумма инвестиций: 1000 руб.\n",
      "Выгодна ли игра игроку? Ответ: в среднем на инвестированный 1 руб игрок получает  -0.605 рублей прибыли \n"
     ]
    }
   ],
   "source": [
    "trials = 1000    # Количество попыток\n",
    "successes = 0    # Количество успехов\n",
    "pay_ruble = 0\n",
    "\n",
    "for i in range(trials):\n",
    "    random_score = np.random.randint(0, 1000)    # Случайное количество очков от 1 до 1000\n",
    "    if random_score == 777:\n",
    "        successes += 200\n",
    "    if random_score == 999:\n",
    "        successes += 100\n",
    "    if random_score == 555:\n",
    "        successes += 50\n",
    "    if random_score == 333:\n",
    "        successes += 15\n",
    "    if random_score == 111:\n",
    "        successes += 10\n",
    "    if random_score/100 == .77:\n",
    "        successes += 5\n",
    "    if random_score/10 == .7:\n",
    "        successes += 3\n",
    "    if random_score/100 == .00:\n",
    "        successes += 2\n",
    "    if random_score/10 == .0:\n",
    "        successes += 1\n",
    "    pay_ruble += 1\n",
    "        \n",
    "p_monte_carlo = successes / trials    # Вероятность из моделирования\n",
    "p = 2 / 6                             # Теоретическая вероятность\n",
    "vigoda_igroka = (successes/pay_ruble) - 1\n",
    "\n",
    "print('выигрышь на 1 тыс попытok  {} руб. \\n Сумма инвестиций: {} руб.'.format(successes, pay_ruble) )\n",
    "print('Выгодна ли игра игроку? Ответ: в среднем на инвестированный 1 руб игрок получает ', vigoda_igroka, \"рублей прибыли \")\n"
   ]
  }
 ],
 "metadata": {
  "kernelspec": {
   "display_name": "Python 3",
   "language": "python",
   "name": "python3"
  },
  "language_info": {
   "codemirror_mode": {
    "name": "ipython",
    "version": 3
   },
   "file_extension": ".py",
   "mimetype": "text/x-python",
   "name": "python",
   "nbconvert_exporter": "python",
   "pygments_lexer": "ipython3",
   "version": "3.8.5"
  }
 },
 "nbformat": 4,
 "nbformat_minor": 4
}
