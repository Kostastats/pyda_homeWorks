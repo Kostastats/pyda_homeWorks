{
 "cells": [
  {
   "cell_type": "markdown",
   "metadata": {},
   "source": [
    "#### Дано\n",
    "Вам нужно помочь секретарю автоматизировать работу. Для этого нужно написать программу, которая будет на основе хранимых данных исполнять пользовательские команды.\n",
    "\n",
    "Исходные данные имеют следующую структуру:\n",
    "\n",
    "1. перечень всех документов\n",
    "\n",
    "documents = [\n",
    "{‘type’: ‘passport’, ‘number’: ‘2207 876234’, ‘name’: ‘Василий Гупкин’},\n",
    "{‘type’: ‘invoice’, ‘number’: ‘11-2’, ‘name’: ‘Геннадий Покемонов’},\n",
    "{‘type’: ‘insurance’, ‘number’: ‘10006’, ‘name’: ‘Аристарх Павлов’}\n",
    "]\n",
    "\n",
    "2.перечень полок, на которых хранятся документы (если документ есть в documents, то он обязательно должен быть и в directories)\n",
    "\n",
    "directories = {\n",
    "‘1’: [‘2207 876234’, ‘11-2’],\n",
    "‘2’: [‘10006’],\n",
    "‘3’: []\n",
    "}"
   ]
  },
  {
   "cell_type": "markdown",
   "metadata": {},
   "source": [
    "### Задание 1\n",
    "#### Пункт 1. Пользователь по команде “p” может узнать владельца документа по его номеру\n",
    "Примеры работы:\n",
    "\n",
    "1:\n",
    "\n",
    "Введите команду:\n",
    "p\n",
    "\n",
    "Введите номер документа:\n",
    "10006\n",
    "\n",
    "Результат:\n",
    "Владелец документа: Аристарх Павлов\n",
    "\n",
    "2:\n",
    "\n",
    "Введите команду:\n",
    "p\n",
    "\n",
    "Введите номер документа:\n",
    "12345\n",
    "\n",
    "Результат:\n",
    "Документ не найден в базе"
   ]
  },
  {
   "cell_type": "code",
   "execution_count": 91,
   "metadata": {},
   "outputs": [],
   "source": [
    "documents = [\n",
    "    {'type': 'passport', 'number': '2207 876234', 'name': 'Василий Гупкин'},\n",
    "    {'type': 'invoice', 'number': '11-2', 'name': 'Геннадий Покемонов'}, \n",
    "    {'type': 'insurance', 'number': '10006', 'name': 'Аристарх Павлов'}\n",
    "]\n",
    "directories = {'1': ['2207 876234', '11-2'],\n",
    "               '2': ['10006'],\n",
    "               '3': []\n",
    "              }\n"
   ]
  },
  {
   "cell_type": "code",
   "execution_count": 105,
   "metadata": {},
   "outputs": [
    {
     "name": "stdout",
     "output_type": "stream",
     "text": [
      "Введите команду: p\n",
      "Введите номер документа: 11-2\n",
      "Номер документа приналежит:  Геннадий Покемонов\n"
     ]
    }
   ],
   "source": [
    "\n",
    "def dok_check():\n",
    "    dok_nr = input('Введите номер документа: ')\n",
    "    for doc in documents:\n",
    "        if dok_nr in doc['number']:\n",
    "            dok_name = doc['name']        \n",
    "            print('Номер документа приналежит: ', dok_name)\n",
    "        else:\n",
    "            continue\n",
    "        return True\n",
    "komanda = input('Введите команду: ')\n",
    "if komanda == 'p':\n",
    "    if dok_check():\n",
    "        pass\n",
    "    else:\n",
    "        print('Документ не найден в базе')\n",
    "else:  \n",
    "    print('Неправильная команда, введите правильную')"
   ]
  },
  {
   "cell_type": "markdown",
   "metadata": {},
   "source": [
    "#### Пункт 2. \n",
    "Пользователь по команде “s” может по номеру документа узнать на какой полке он хранится.\n",
    "2.перечень полок, на которых хранятся документы (если документ есть в documents, то он обязательно должен быть и в directories)\n",
    "\n",
    "directories = {\n",
    "‘1’: [‘2207 876234’, ‘11-2’],\n",
    "‘2’: [‘10006’],\n",
    "‘3’: []\n",
    "}\n",
    ".\n",
    "Примеры работы:\n",
    "\n",
    "Введите команду:\n",
    "s\n",
    "\n",
    "Введите номер документа:\n",
    "10006\n",
    "\n",
    "Результат:\n",
    "Документ хранится на полке: 2\n",
    "\n",
    "Введите команду:\n",
    "p\n",
    "\n",
    "Введите номер документа:\n",
    "12345\n",
    "\n",
    "Результат:\n",
    "Документ не найден в базе"
   ]
  },
  {
   "cell_type": "code",
   "execution_count": 5,
   "metadata": {},
   "outputs": [
    {
     "name": "stdout",
     "output_type": "stream",
     "text": [
      "Введите команду: s\n",
      "введите номер документа 11-2\n",
      "ваш документ лежит на полке номер:  1\n"
     ]
    }
   ],
   "source": [
    "\n",
    "def on_shelf():\n",
    "    shelf = (input('введите номер документа '))\n",
    "    for t in directories.items():\n",
    "        if shelf in t[1][0:]:\n",
    "            give_shelf = t[0][0:]\n",
    "            print('ваш документ лежит на полке номер: ', give_shelf)\n",
    "        else:\n",
    "            continue\n",
    "        return True\n",
    "komanda_s = input('Введите команду: ')\n",
    "if komanda_s == 's':\n",
    "    if on_shelf():\n",
    "        pass\n",
    "    else:\n",
    "        print('Документ не найден в базе')\n",
    "else:  \n",
    "    print('Неправильная команда, введите правильную')\n",
    "    "
   ]
  },
  {
   "cell_type": "markdown",
   "metadata": {},
   "source": [
    "#### Пункт 3. \n",
    "Пользователь по команде “l” может увидеть полную информацию по всем документам\n",
    "Пример работы:\n",
    "\n",
    "Введите команду:\n",
    "l\n",
    "\n",
    "Результат:\n",
    "\n",
    "№: 2207 876234, тип: passport, владелец: Василий Гупкин, полка хранения: 1\n",
    "№: 11-2, тип: invoice, владелец: Геннадий Покемонов, полка хранения: 1\n",
    "№: 10006, тип: insurance, владелец: Аристарх Павлов, полка хранения: 2\n"
   ]
  },
  {
   "cell_type": "code",
   "execution_count": 93,
   "metadata": {},
   "outputs": [
    {
     "name": "stdout",
     "output_type": "stream",
     "text": [
      "введите команду: l\n",
      "[{'No': '2207 876234', 'type': 'passport', 'владелец': 'Василий Гупкин', 'полка хранения': 1}, {'No': '11-2', 'type': 'invoice', 'владелец': 'Геннадий Покемонов', 'полка хранения': 1}, {'No': '10006', 'type': 'insurance', 'владелец': 'Аристарх Павлов', 'полка хранения': 2}]\n"
     ]
    }
   ],
   "source": [
    "def komanda_l():\n",
    "    entry_count = 0\n",
    "    out = []\n",
    "    for j,k in enumerate(directories):\n",
    "        v = directories[k]\n",
    "        for i,n in enumerate(directories[k]):\n",
    "            if n == '0': \n",
    "                break\n",
    "            data = documents[entry_count]\n",
    "            out.append({ 'No': n, 'type': data['type'], 'владелец': data['name'], 'полка хранения': j + 1 })\n",
    "            entry_count += 1\n",
    "\n",
    "    \n",
    "    return print(out)\n",
    "put_l = input('введите команду: ')\n",
    "if put_l == 'l':\n",
    "    komanda_l()\n",
    "else:\n",
    "    print('введите правильную команду ')\n",
    "    "
   ]
  },
  {
   "cell_type": "markdown",
   "metadata": {},
   "source": [
    "#### Пункт 4. \n",
    "Пользователь по команде “as” может добавить новую полку"
   ]
  },
  {
   "cell_type": "code",
   "execution_count": 158,
   "metadata": {},
   "outputs": [
    {
     "name": "stdout",
     "output_type": "stream",
     "text": [
      "введите команду для добавления полки: as\n",
      "новая полка добавлена!!!  \n",
      "  перечень полок :  {'1': ['2207 876234', '11-2'], '2': ['10006'], '3': [], 4: [], 5: [], 6: [], 7: []}\n"
     ]
    }
   ],
   "source": [
    "def add_shelf():\n",
    "    for c, f in directories.items():\n",
    "        pass\n",
    "    directories.update({int(c) + 1 : []})\n",
    "    #return print(directories)\n",
    "new_shelf = input('введите команду для добавления полки: ')\n",
    "if new_shelf == 'as':\n",
    "    add_shelf()\n",
    "    print('новая полка добавлена!!! ', '\\n', ' перечень полок : ', directories)\n",
    "else:\n",
    "    print(' неправильная команда, введите правильную ')\n",
    "    \n",
    "\n",
    "        "
   ]
  },
  {
   "cell_type": "code",
   "execution_count": 159,
   "metadata": {},
   "outputs": [
    {
     "name": "stdout",
     "output_type": "stream",
     "text": [
      "{'1': ['2207 876234', '11-2'], '2': ['10006'], '3': [], 4: [], 5: [], 6: [], 7: []}\n"
     ]
    }
   ],
   "source": [
    "print(directories)"
   ]
  },
  {
   "cell_type": "markdown",
   "metadata": {},
   "source": [
    "#### Пункт 5. \n",
    "Пользователь по команде “ds” может удалить существующую полку из данных (только если она пустая)"
   ]
  },
  {
   "cell_type": "code",
   "execution_count": 166,
   "metadata": {},
   "outputs": [
    {
     "name": "stdout",
     "output_type": "stream",
     "text": [
      "введите команду для удаления полки: ds\n",
      "введите номер полки которую нужно удалить: 7\n",
      "полка успешно удалена!  \n",
      " текущий перечень полок :  {'1': ['2207 876234', '11-2'], '2': ['10006'], '3': [], 4: [], 5: [], 6: []}\n"
     ]
    }
   ],
   "source": [
    "def polka_von():\n",
    "    ubral = int(input('введите номер полки которую нужно удалить: '))\n",
    "    for c, f in directories.items():\n",
    "        pass\n",
    "    if ubral == c: \n",
    "        if f == []:\n",
    "            directories.pop(ubral)\n",
    "            print('полка успешно удалена! ', '\\n', 'текущий перечень полок : ', directories)\n",
    "        else:\n",
    "            print('полка не пустая, удалиь невозможно')\n",
    "    else:\n",
    "        print(' такой полки нет ')\n",
    "        \n",
    "komanda_ds = input('введите команду для удаления полки: ')\n",
    "if komanda_ds == 'ds':\n",
    "    polka_von()\n",
    "else:\n",
    "    print(' неправильная команда, введите правильную ')\n",
    "\n",
    "    "
   ]
  },
  {
   "cell_type": "code",
   "execution_count": 164,
   "metadata": {},
   "outputs": [
    {
     "name": "stdout",
     "output_type": "stream",
     "text": [
      "{'1': ['2207 876234', '11-2'], '2': ['10006'], '3': [], 4: [], 5: [], 6: [], 7: []}\n"
     ]
    }
   ],
   "source": [
    "print(directories)"
   ]
  }
 ],
 "metadata": {
  "kernelspec": {
   "display_name": "Python 3",
   "language": "python",
   "name": "python3"
  },
  "language_info": {
   "codemirror_mode": {
    "name": "ipython",
    "version": 3
   },
   "file_extension": ".py",
   "mimetype": "text/x-python",
   "name": "python",
   "nbconvert_exporter": "python",
   "pygments_lexer": "ipython3",
   "version": "3.8.5"
  }
 },
 "nbformat": 4,
 "nbformat_minor": 4
}
