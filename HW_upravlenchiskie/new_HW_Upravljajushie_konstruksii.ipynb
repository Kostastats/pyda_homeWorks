{
 "cells": [
  {
   "cell_type": "markdown",
   "metadata": {},
   "source": [
    "## Домашнее задание «Управляющие конструкции и коллекции» часть 1"
   ]
  },
  {
   "cell_type": "markdown",
   "metadata": {},
   "source": [
    "#### Задание 1\n",
    "Дана переменная, в которой хранится слово из латинских букв."
   ]
  },
  {
   "cell_type": "code",
   "execution_count": 3,
   "metadata": {
    "scrolled": true
   },
   "outputs": [
    {
     "name": "stdout",
     "output_type": "stream",
     "text": [
      "t\n",
      "ti\n"
     ]
    }
   ],
   "source": [
    "def middle_char(txt):\n",
    "   return txt[(len(txt)-1)//2:(len(txt)+2)//2]\n",
    "print(middle_char(\"Democratisation\"))\n",
    "print(middle_char(\"Democratisations\"))"
   ]
  },
  {
   "cell_type": "markdown",
   "metadata": {},
   "source": [
    "#### Задание 2\n",
    "Напишите программу, которая последовательно запрашивает у пользователя числа (по одному за раз) и после первого нуля выводит сумму всех ранее введенных чисел."
   ]
  },
  {
   "cell_type": "code",
   "execution_count": 1,
   "metadata": {},
   "outputs": [
    {
     "name": "stdout",
     "output_type": "stream",
     "text": [
      "Введите число от 1 до 9: 5\n",
      "5\n",
      "Введите число от 1 до 9: 4\n",
      "9\n",
      "Введите число от 1 до 9: 9\n",
      "18\n",
      "Введите число от 1 до 9: 0\n",
      "вы ввели цифру 0, ваша сумма  18\n"
     ]
    }
   ],
   "source": [
    "f = 0\n",
    "while f >= 0:\n",
    "    x = int(input(\"Введите число от 1 до 9: \"))\n",
    "    if x == 0:\n",
    "        print(\"вы ввели цифру 0, ваша сумма \", f)\n",
    "        break\n",
    "    f += x\n",
    "    print(f)"
   ]
  },
  {
   "cell_type": "markdown",
   "metadata": {},
   "source": [
    "#### Задание 3\n",
    "Мы делаем MVP dating-сервиса, и у нас есть список парней и девушек.Выдвигаем гипотезу: лучшие рекомендации мы получим, если просто отсортируем имена по алфавиту и познакомим людей с одинаковыми индексами после сортировки! Но мы не будем никого знакомить, если кто-то может остаться без пары:"
   ]
  },
  {
   "cell_type": "code",
   "execution_count": 102,
   "metadata": {},
   "outputs": [
    {
     "name": "stdout",
     "output_type": "stream",
     "text": [
      "Идеальные пары:  (('Andru', 'Anna'), ('Max', 'Annet'), ('Peter', 'Keti'), ('Sam', 'Maria'), ('Steven', 'Monika'))\n"
     ]
    }
   ],
   "source": [
    "boys_names = ['Sam', 'Peter', 'Max', 'Steven', 'Andru']\n",
    "girls_names = ['Anna', 'Keti', 'Maria', 'Monika', 'Annet']\n",
    "boys = sorted(boys_names)\n",
    "girls = sorted(girls_names)\n",
    "pairs = zip(boys, girls)\n",
    "if len(boys) == len(girls):\n",
    "    print('Идеальные пары: ', tuple(pairs))\n",
    "else:\n",
    "    print('Внимание, кто-то может остаться без пары!')\n",
    "    "
   ]
  },
  {
   "cell_type": "markdown",
   "metadata": {},
   "source": [
    "#### Задание 4\n",
    "Фаренгейты в Цельсии. У нас есть список, содержащий информацию о среднедневной температуре в Фаренгейтах за произвольный период по странам (структура данных в примере). Необходимо написать код, который рассчитает среднюю температуру за период в Цельсиях(!) для каждой страны."
   ]
  },
  {
   "cell_type": "code",
   "execution_count": 111,
   "metadata": {},
   "outputs": [
    {
     "name": "stdout",
     "output_type": "stream",
     "text": [
      "['Thailand', [75.2, 77, 78.8, 73.4, 68, 75.2, 77]]\n",
      "Среднедневная температура в  Thailand  -  24  градусов цельсия\n",
      "Среднедневная температура в  Germany  -  14  градусов цельсия\n",
      "Среднедневная температура в  Russia  -  4  градусов цельсия\n",
      "Среднедневная температура в  Poland  -  12  градусов цельсия\n"
     ]
    }
   ],
   "source": [
    "countries_temp = [['Thailand', [75.2, 77, 78.8, 73.4, 68, 75.2, 77]],\n",
    "    ['Germany', [57.2, 55.4, 59, 59, 53.6]],\n",
    "    ['Russia', [35.6, 37.4, 39.2, 41, 42.8, 39.2, 35.6]],\n",
    "    ['Poland', [50, 50, 53.6, 57.2, 55.4, 55.4]]\n",
    "                        ]\n",
    "print(countries_temp[0])\n",
    "for fr_temp in countries_temp:\n",
    "    aver = fr_temp[1][0:]\n",
    "    aver_fr = (sum(aver)/len(aver))\n",
    "    aver_celc = (5/9)*(aver_fr - 32)\n",
    "    country = fr_temp[0:][0]\n",
    "    #print(sum(aver))\n",
    "    #print(sum(aver)/len(aver))\n",
    "    #print(aver_fr)\n",
    "    print('Среднедневная температура в ', country , ' - ', round(aver_celc), ' градусов цельсия')\n",
    "\n",
    "    \n",
    "        # C = (5/9) * (F - 32)\n",
    "        # sum(l) / float(len(l))"
   ]
  }
 ],
 "metadata": {
  "kernelspec": {
   "display_name": "Python 3",
   "language": "python",
   "name": "python3"
  },
  "language_info": {
   "codemirror_mode": {
    "name": "ipython",
    "version": 3
   },
   "file_extension": ".py",
   "mimetype": "text/x-python",
   "name": "python",
   "nbconvert_exporter": "python",
   "pygments_lexer": "ipython3",
   "version": "3.8.5"
  }
 },
 "nbformat": 4,
 "nbformat_minor": 4
}
