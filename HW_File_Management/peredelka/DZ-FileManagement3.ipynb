{
 "cells": [
  {
   "cell_type": "markdown",
   "metadata": {},
   "source": [
    "# Домашнее задание"
   ]
  },
  {
   "cell_type": "markdown",
   "metadata": {},
   "source": [
    "### 1\n",
    "Переведите содержимое файла purchase_log.txt в словарь purchases вида:\n",
    "{‘1840e0b9d4’: ‘Продукты’, …}"
   ]
  },
  {
   "cell_type": "code",
   "execution_count": 8,
   "metadata": {},
   "outputs": [],
   "source": [
    "f = open('purchase_log.txt', 'r', encoding='utf8')"
   ]
  },
  {
   "cell_type": "code",
   "execution_count": 16,
   "metadata": {},
   "outputs": [
    {
     "data": {
      "text/plain": [
       "'{\"user_id\": \"1840e0b9d4\", \"category\": \"Продукты\"}\\n'"
      ]
     },
     "execution_count": 16,
     "metadata": {},
     "output_type": "execute_result"
    }
   ],
   "source": [
    "f1 = f.readline()\n",
    "f1 #прочитал строку файла"
   ]
  },
  {
   "cell_type": "code",
   "execution_count": 17,
   "metadata": {},
   "outputs": [],
   "source": [
    "import json\n"
   ]
  },
  {
   "cell_type": "code",
   "execution_count": 18,
   "metadata": {},
   "outputs": [
    {
     "data": {
      "text/plain": [
       "{'user_id': '1840e0b9d4', 'category': 'Продукты'}"
      ]
     },
     "execution_count": 18,
     "metadata": {},
     "output_type": "execute_result"
    }
   ],
   "source": [
    "f2 = json.loads(f1)\n",
    "f2  # перевел данную строку в json\n"
   ]
  },
  {
   "cell_type": "code",
   "execution_count": 19,
   "metadata": {},
   "outputs": [
    {
     "name": "stdout",
     "output_type": "stream",
     "text": [
      "['1840e0b9d4', 'Продукты']\n"
     ]
    },
    {
     "data": {
      "text/plain": [
       "list"
      ]
     },
     "execution_count": 19,
     "metadata": {},
     "output_type": "execute_result"
    }
   ],
   "source": [
    "l = []\n",
    "for k, v in f2.items():\n",
    "    l += v.split(',')\n",
    "print(l) # посмотрел как вытащить нужные элементы из строки\n",
    "type(l) # проверил тип - лист - чобы понять с чем имею дело и какой метод применять"
   ]
  },
  {
   "cell_type": "code",
   "execution_count": 20,
   "metadata": {},
   "outputs": [
    {
     "name": "stdout",
     "output_type": "stream",
     "text": [
      "{'1840e0b9d4': 'Продукты'}\n"
     ]
    }
   ],
   "source": [
    "# list to dictionary\n",
    "def Convert(l):\n",
    "    it = iter(l)\n",
    "    res_dct = dict(zip(it, it))\n",
    "    return res_dct\n",
    "         \n",
    "# по условиям, нужно перевести в словарь, я попробовал с помощью иттерации и зип перевести строки в словари\n",
    "\n",
    "print(Convert(l)) "
   ]
  },
  {
   "cell_type": "code",
   "execution_count": 21,
   "metadata": {},
   "outputs": [
    {
     "data": {
      "text/plain": [
       "{'df85c3cd61': 'Бытовая техника'}"
      ]
     },
     "execution_count": 21,
     "metadata": {},
     "output_type": "execute_result"
    }
   ],
   "source": [
    "schet = 0\n",
    "with open('purchase_log.txt', 'r', encoding='utf8') as f_out:\n",
    "    whole_f = f_out.readlines()\n",
    "    for line in whole_f:\n",
    "        import json\n",
    "        form_lines = json.loads(line)\n",
    "        l = []\n",
    "        for k, v in form_lines.items():\n",
    "            l += v.split(',')\n",
    "            it = iter(l)\n",
    "            create_dct = dict(zip(it, it))\n",
    "            schet += 1\n",
    "create_dct  # здесь я все скомпоновал для выполнения ДЗ, вроде иттерирует и читает все правильно"
   ]
  },
  {
   "cell_type": "code",
   "execution_count": 32,
   "metadata": {},
   "outputs": [
    {
     "ename": "TypeError",
     "evalue": "write() argument must be str, not dict",
     "output_type": "error",
     "traceback": [
      "\u001b[1;31m---------------------------------------------------------------------------\u001b[0m",
      "\u001b[1;31mTypeError\u001b[0m                                 Traceback (most recent call last)",
      "\u001b[1;32m<ipython-input-32-0ab7911c0d32>\u001b[0m in \u001b[0;36m<module>\u001b[1;34m\u001b[0m\n\u001b[0;32m     11\u001b[0m                 \u001b[0mit\u001b[0m \u001b[1;33m=\u001b[0m \u001b[0miter\u001b[0m\u001b[1;33m(\u001b[0m\u001b[0ml\u001b[0m\u001b[1;33m)\u001b[0m\u001b[1;33m\u001b[0m\u001b[1;33m\u001b[0m\u001b[0m\n\u001b[0;32m     12\u001b[0m                 \u001b[0mcreate_dct\u001b[0m \u001b[1;33m=\u001b[0m \u001b[0mdict\u001b[0m\u001b[1;33m(\u001b[0m\u001b[0mzip\u001b[0m\u001b[1;33m(\u001b[0m\u001b[0mit\u001b[0m\u001b[1;33m,\u001b[0m \u001b[0mit\u001b[0m\u001b[1;33m)\u001b[0m\u001b[1;33m)\u001b[0m\u001b[1;33m\u001b[0m\u001b[1;33m\u001b[0m\u001b[0m\n\u001b[1;32m---> 13\u001b[1;33m                 \u001b[0mf_in\u001b[0m\u001b[1;33m.\u001b[0m\u001b[0mwrite\u001b[0m\u001b[1;33m(\u001b[0m\u001b[0mcreate_dct\u001b[0m\u001b[1;33m)\u001b[0m\u001b[1;33m\u001b[0m\u001b[1;33m\u001b[0m\u001b[0m\n\u001b[0m\u001b[0;32m     14\u001b[0m                 \u001b[0mschet\u001b[0m \u001b[1;33m+=\u001b[0m \u001b[1;36m1\u001b[0m\u001b[1;33m\u001b[0m\u001b[1;33m\u001b[0m\u001b[0m\n\u001b[0;32m     15\u001b[0m \u001b[1;31m# остается все то что сделано выше записать в файл purchases.csv, выдает ошибку что должна быть строка\u001b[0m\u001b[1;33m\u001b[0m\u001b[1;33m\u001b[0m\u001b[1;33m\u001b[0m\u001b[0m\n",
      "\u001b[1;31mTypeError\u001b[0m: write() argument must be str, not dict"
     ]
    }
   ],
   "source": [
    "schet = 0\n",
    "with open('purchase_log.txt', 'r', encoding='utf8') as f_out:\n",
    "    whole_f = f_out.readlines()\n",
    "    with open('purchases.csv', 'w', encoding='utf8') as f_in:\n",
    "        for line in whole_f:\n",
    "            import json\n",
    "            form_lines = json.loads(line)\n",
    "            l = []\n",
    "            for k, v in form_lines.items():\n",
    "                l += v.split(',')\n",
    "                it = iter(l)\n",
    "                create_dct = dict(zip(it, it))\n",
    "                f_in.write(create_dct)\n",
    "                schet += 1\n",
    "# остается все то что сделано выше записать в файл purchases.csv, выдает ошибку что должна быть строка"
   ]
  },
  {
   "cell_type": "code",
   "execution_count": null,
   "metadata": {},
   "outputs": [],
   "source": [
    "#schet = 0\n",
    "#with open('purchase_log.txt', 'r', encoding='utf8') as f_out:\n",
    "   # whole_f = f_out.readlines()\n",
    "    #with open('purchases.csv', 'w', encoding='utf8') as f_in:\n",
    "        #for line in whole_f:\n",
    "            #import json\n",
    "            #form_lines = json.loads(line)\n",
    "            #l = []\n",
    "            #for k, v in form_lines.items():\n",
    "                #l += v.split(',')\n",
    "                #it = iter(l)\n",
    "                #create_dct = dict(zip(it, it))\n",
    "                #f_in.write(str(create_dct)) --- ВЕСЬ ТОТ ЖУ САМЫЙ КОД ЧТО И СВЕРХУ, ТОЛЬКО ЗДЕСЬ Я ПЕРЕВОЖУ В СТРОКУ, ЧТОБЫ ОШИБКУ \n",
    "                # НЕ ВЫДАВАЛО, ВЫДАЕТ ИНФО В НУЖНОМ ФОРМАТЕ, НО ОПЕРАТИВНАЯ ПАМЯТЬ НЕ ВЫДЕРЖИВАЕТ. В чем проблема?\n",
    "                #schet += 1"
   ]
  },
  {
   "cell_type": "code",
   "execution_count": 31,
   "metadata": {},
   "outputs": [
    {
     "data": {
      "text/plain": [
       "''"
      ]
     },
     "execution_count": 31,
     "metadata": {},
     "output_type": "execute_result"
    }
   ],
   "source": [
    "new_f = open('purchases.csv', 'r', encoding='utf8')\n",
    "new_f.readline()"
   ]
  },
  {
   "cell_type": "markdown",
   "metadata": {},
   "source": [
    "### Задание нр 2\n",
    "Для каждого user_id в файле visit_log.csv определите третий столбец с категорией покупки (если покупка была, сам файл visit_log.csv изменять не надо). Запишите в файл funnel.csv визиты из файла visit_log.csv, в которых были покупки с указанием категории.\n",
    "Учтите условия на данные:\n",
    "содержимое purchase_log.txt помещается в оперативную память компьютера\n",
    "содержимое visit_log.csv - нет; используйте только построчную обработку этого файла"
   ]
  },
  {
   "cell_type": "code",
   "execution_count": 35,
   "metadata": {},
   "outputs": [
    {
     "data": {
      "text/plain": [
       "''"
      ]
     },
     "execution_count": 35,
     "metadata": {},
     "output_type": "execute_result"
    }
   ],
   "source": [
    "purchases = open('purchases.csv', 'r', encoding='utf8')  \n",
    "purchases.readline()"
   ]
  },
  {
   "cell_type": "code",
   "execution_count": 33,
   "metadata": {},
   "outputs": [],
   "source": [
    "i = 0\n",
    "with open('purchases.csv', 'r', encoding='utf8') as purchases:\n",
    "    with open('visit_log.csv', 'r', encoding='utf8') as visit:\n",
    "        # with open('funnel.csv', 'w', encoding='utf8') as funnel:\n",
    "        pokupka = purchases.readlines()[0:10]\n",
    "        for v in visit.readline():\n",
    "            funnel = open('funnel.csv', 'w', encoding='utf8')\n",
    "            if pokupka == v[0:10]:\n",
    "                funnel.write(v + ' покупка совершенна')\n",
    "                i += 1\n",
    "            else:\n",
    "                continue\n",
    "            \n",
    "\n"
   ]
  },
  {
   "cell_type": "markdown",
   "metadata": {},
   "source": [
    "#### Из-за ошибки в первом задании, соответственно здесь уже не то все.  \n",
    "#### Подскажите, чего я сделал не так?"
   ]
  },
  {
   "cell_type": "code",
   "execution_count": 30,
   "metadata": {},
   "outputs": [
    {
     "data": {
      "text/plain": [
       "'user_id,sou'"
      ]
     },
     "execution_count": 30,
     "metadata": {},
     "output_type": "execute_result"
    }
   ],
   "source": [
    "g = open('visit_log.csv', 'r', encoding='utf8') \n",
    "g.readline()[0:11]"
   ]
  },
  {
   "cell_type": "code",
   "execution_count": 31,
   "metadata": {},
   "outputs": [
    {
     "data": {
      "text/plain": [
       "'6450655ae8'"
      ]
     },
     "execution_count": 31,
     "metadata": {},
     "output_type": "execute_result"
    }
   ],
   "source": [
    "g.readline()[0:10]"
   ]
  },
  {
   "cell_type": "code",
   "execution_count": 32,
   "metadata": {},
   "outputs": [
    {
     "data": {
      "text/plain": [
       "_io.TextIOWrapper"
      ]
     },
     "execution_count": 32,
     "metadata": {},
     "output_type": "execute_result"
    }
   ],
   "source": [
    "type(g)\n",
    "# здесь я решил проверить тип файла, потому что JSON \n",
    "# выдает ошибку что не поддерживает формат _io.TextIOWrapper (что это?)"
   ]
  },
  {
   "cell_type": "code",
   "execution_count": 33,
   "metadata": {},
   "outputs": [
    {
     "data": {
      "text/plain": [
       "'user_id:ca'"
      ]
     },
     "execution_count": 33,
     "metadata": {},
     "output_type": "execute_result"
    }
   ],
   "source": [
    "pur = open('purchases.csv', 'r', encoding='utf8')\n",
    "pur.readline()[0:10]"
   ]
  },
  {
   "cell_type": "code",
   "execution_count": 34,
   "metadata": {},
   "outputs": [
    {
     "data": {
      "text/plain": [
       "_io.TextIOWrapper"
      ]
     },
     "execution_count": 34,
     "metadata": {},
     "output_type": "execute_result"
    }
   ],
   "source": [
    "type(pur)"
   ]
  }
 ],
 "metadata": {
  "kernelspec": {
   "display_name": "Python 3",
   "language": "python",
   "name": "python3"
  },
  "language_info": {
   "codemirror_mode": {
    "name": "ipython",
    "version": 3
   },
   "file_extension": ".py",
   "mimetype": "text/x-python",
   "name": "python",
   "nbconvert_exporter": "python",
   "pygments_lexer": "ipython3",
   "version": "3.8.5"
  }
 },
 "nbformat": 4,
 "nbformat_minor": 4
}
